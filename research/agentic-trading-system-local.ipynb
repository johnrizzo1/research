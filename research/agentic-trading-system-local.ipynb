{
 "cells": [
  {
   "cell_type": "markdown",
   "id": "2f1b3ed09ae2ed0e",
   "metadata": {},
   "source": [
    "# Setup"
   ]
  },
  {
   "cell_type": "markdown",
   "id": "0cc28061",
   "metadata": {},
   "source": [
    "Original Reference: https://colab.research.google.com/gist/virattt/251cfea5e66b21c7b6a58b8952476117/hedge-fund-trading-team.ipynb#scrollTo=ro6_juA_nHl-"
   ]
  },
  {
   "cell_type": "code",
   "execution_count": 14,
   "id": "f6f940776f281ed1",
   "metadata": {
    "ExecuteTime": {
     "end_time": "2024-12-03T22:08:00.837534Z",
     "start_time": "2024-12-03T22:08:00.834292Z"
    }
   },
   "outputs": [],
   "source": [
    "import getpass\n",
    "from dotenv import load_dotenv\n",
    "import pandas as pd\n",
    "# import requests\n",
    "import os\n",
    "from datetime import timedelta\n",
    "import matplotlib.pyplot as plt\n",
    "import json\n",
    "\n",
    "from openbb import obb\n",
    "\n",
    "# Import your agent's dependencies\n",
    "from langchain_openai.chat_models import ChatOpenAI\n",
    "from langchain_ollama.chat_models import ChatOllama\n",
    "from langchain_core.messages import HumanMessage\n",
    "from langgraph.graph import END, MessagesState, StateGraph, START\n",
    "from langchain_core.prompts import ChatPromptTemplate, MessagesPlaceholder\n"
   ]
  },
  {
   "cell_type": "code",
   "execution_count": 15,
   "id": "7f28880b831ec87a",
   "metadata": {
    "ExecuteTime": {
     "end_time": "2024-12-03T22:08:00.862009Z",
     "start_time": "2024-12-03T22:08:00.856761Z"
    }
   },
   "outputs": [],
   "source": [
    "load_dotenv()\n",
    "\n",
    "def _set_if_undefined(var: str):\n",
    "    if not os.environ.get(var):\n",
    "        os.environ[var] = getpass.getpass(f\"Please provide your {var}\")\n",
    "\n",
    "_set_if_undefined(\"OPENAI_API_KEY\")               # For calling LLM. Get from https://platform.openai.com/\n",
    "# _set_if_undefined(\"FINANCIAL_DATASETS_API_KEY\")   # For getting financial data. Get from https://financialdatasets.ai"
   ]
  },
  {
   "cell_type": "code",
   "execution_count": 16,
   "id": "5d4d1c3805820605",
   "metadata": {
    "ExecuteTime": {
     "end_time": "2024-12-03T22:08:00.911024Z",
     "start_time": "2024-12-03T22:08:00.873150Z"
    }
   },
   "outputs": [],
   "source": [
    "# We use GPT-4o, but you can use any LLM\n",
    "llm = ChatOpenAI(model=\"gpt-4o\")\n",
    "# llama3.2:1b very fast but not accurate\n",
    "# llama3.1 very slow\n",
    "# llama3.2 faster than 3.1\n",
    "# mistral gemma qwen gemma2\n",
    "# llm = ChatOllama(model=\"llama3.2\") "
   ]
  },
  {
   "cell_type": "markdown",
   "id": "277da4a6ac3f06e5",
   "metadata": {},
   "source": [
    "# Create Market Data Agent"
   ]
  },
  {
   "cell_type": "code",
   "execution_count": 17,
   "id": "ca795e043c509497",
   "metadata": {
    "ExecuteTime": {
     "end_time": "2024-12-03T22:08:00.917578Z",
     "start_time": "2024-12-03T22:08:00.914793Z"
    }
   },
   "outputs": [],
   "source": [
    "def market_data_agent(state: MessagesState):\n",
    "    \"\"\"Responsible for gathering and preprocessing market data\"\"\"\n",
    "    messages = state[\"messages\"]\n",
    "    params = messages[-1].additional_kwargs\n",
    "\n",
    "    # Get the historical price data\n",
    "    historical_data = get_price_data(\n",
    "        params[\"ticker\"], params[\"start_date\"], params[\"end_date\"]\n",
    "    )\n",
    "\n",
    "    # Calculate the trading signals\n",
    "    signals = calculate_trading_signals(historical_data)\n",
    "\n",
    "    # Create the market data agent's message using the signals and historical data\n",
    "    message = HumanMessage(\n",
    "        content=f\"\"\"\n",
    "        Here are the trading signals for {params[\"ticker\"]}:\n",
    "        Current Price: ${signals['current_price']:.2f}\n",
    "        SMA 5: {signals['sma_5_curr']:.2f}\n",
    "        SMA 5 Previous: {signals['sma_5_prev']:.2f}\n",
    "        SMA 20: {signals['sma_20_curr']:.2f}\n",
    "        SMA 20 Previous: {signals['sma_20_prev']:.2f}\n",
    "        Volume: {signals['volume']:.2f}\n",
    "        \"\"\",\n",
    "        name=\"market_data_agent\",\n",
    "    )\n",
    "\n",
    "    return {\"messages\": messages + [message]}"
   ]
  },
  {
   "cell_type": "markdown",
   "id": "611a377ef883a8e6",
   "metadata": {},
   "source": [
    "# Create Quant Agent"
   ]
  },
  {
   "cell_type": "code",
   "execution_count": 18,
   "id": "cd605b26a94425e3",
   "metadata": {
    "ExecuteTime": {
     "end_time": "2024-12-03T22:08:00.926084Z",
     "start_time": "2024-12-03T22:08:00.923453Z"
    }
   },
   "outputs": [],
   "source": [
    "def quant_agent(state: MessagesState):\n",
    "    \"\"\"Analyzes technical indicators and generates trading signals\"\"\"\n",
    "    last_message = state[\"messages\"][-1]\n",
    "\n",
    "    summary_prompt = ChatPromptTemplate.from_messages(\n",
    "        [\n",
    "            (\n",
    "                \"system\",\n",
    "                \"\"\"You are a hedge fund quant / technical analyst.\n",
    "                You are given trading signals for a stock.\n",
    "                Analyze the signals and provide a recommendation.\n",
    "                - signal: bullish | bearish | neutral,\n",
    "                - confidence: <float between 0 and 1>\n",
    "                \"\"\"\n",
    "            ),\n",
    "            MessagesPlaceholder(variable_name=\"messages\"),\n",
    "            (\n",
    "                \"human\",\n",
    "                f\"\"\"Based on the trading signals below, analyze the data and provide your assessment.\n",
    "\n",
    "                Trading Analysis: {last_message.content}\n",
    "\n",
    "                Only include your trading signal and confidence in the output.\n",
    "                \"\"\"\n",
    "            ),\n",
    "        ]\n",
    "    )\n",
    "\n",
    "    chain = summary_prompt | llm\n",
    "\n",
    "    result = chain.invoke(state).content\n",
    "    message = HumanMessage(\n",
    "        content=f\"Here is the trading analysis and my recommendation:{result}\",\n",
    "        name=\"quant_agent\",\n",
    "    )\n",
    "\n",
    "    return {\"messages\": state[\"messages\"] + [message]}"
   ]
  },
  {
   "cell_type": "markdown",
   "id": "d810c420d30e6e51",
   "metadata": {},
   "source": [
    "# Create Risk Management Agent"
   ]
  },
  {
   "cell_type": "code",
   "execution_count": 19,
   "id": "960288422ff08f9b",
   "metadata": {
    "ExecuteTime": {
     "end_time": "2024-12-03T22:08:00.934875Z",
     "start_time": "2024-12-03T22:08:00.931848Z"
    }
   },
   "outputs": [],
   "source": [
    "def risk_management_agent(state: MessagesState):\n",
    "    \"\"\"Evaluates portfolio risk and sets position limits\"\"\"\n",
    "    portfolio = state[\"messages\"][0].additional_kwargs[\"portfolio\"]\n",
    "    last_message = state[\"messages\"][-1]\n",
    "\n",
    "    risk_prompt = ChatPromptTemplate.from_messages(\n",
    "        [\n",
    "            (\n",
    "                \"system\",\n",
    "                \"\"\"You are a risk management specialist.\n",
    "                Your job is to take a look at the trading analysis and\n",
    "                evaluate portfolio exposure and recommend position sizing.\n",
    "                Provide the following in your output (not as a JSON):\n",
    "                - max_position_size: <float greater than 0>,\n",
    "                - risk_score: <integer between 1 and 10>\"\"\"\n",
    "            ),\n",
    "            MessagesPlaceholder(variable_name=\"messages\"),\n",
    "            (\n",
    "                \"human\",\n",
    "                f\"\"\"Based on the trading analysis below, provide your risk assessment.\n",
    "\n",
    "                Trading Analysis: {last_message.content}\n",
    "\n",
    "                Here is the current portfolio:\n",
    "                Portfolio:\n",
    "                Cash: ${portfolio['cash']:.2f}\n",
    "                Current Position: {portfolio['stock']} shares\n",
    "\n",
    "                Only include the max position size and risk score in your output.\n",
    "                \"\"\"\n",
    "            ),\n",
    "        ]\n",
    "    )\n",
    "    chain = risk_prompt | llm\n",
    "    result = chain.invoke(state).content\n",
    "    message = HumanMessage(\n",
    "        content=f\"Here is the risk management recommendation: {result}\",\n",
    "        name=\"risk_management\",\n",
    "    )\n",
    "    return {\"messages\": state[\"messages\"] + [message]}"
   ]
  },
  {
   "cell_type": "markdown",
   "id": "ab0d5e8fc1ec3d09",
   "metadata": {},
   "source": [
    "# Create Portfolio Management Agent"
   ]
  },
  {
   "cell_type": "code",
   "execution_count": 20,
   "id": "e72ee065806dca95",
   "metadata": {
    "ExecuteTime": {
     "end_time": "2024-12-03T22:08:00.943970Z",
     "start_time": "2024-12-03T22:08:00.940900Z"
    }
   },
   "outputs": [],
   "source": [
    "def portfolio_management_agent(state: MessagesState):\n",
    "    \"\"\"Makes final trading decisions and generates orders\"\"\"\n",
    "    portfolio = state[\"messages\"][0].additional_kwargs[\"portfolio\"]\n",
    "    last_message = state[\"messages\"][-1]\n",
    "\n",
    "    portfolio_prompt = ChatPromptTemplate.from_messages(\n",
    "        [\n",
    "            (\n",
    "                \"system\",\n",
    "                \"\"\"You are a portfolio manager making final trading decisions.\n",
    "                Your job is to make a trading decision based on the risk management data.\n",
    "                Provide the following in your output:\n",
    "                - \"action\": \"buy\" | \"sell\" | \"hold\",\n",
    "                - \"quantity\": <positive integer>\n",
    "                Only buy if you have available cash.\n",
    "                The quantity that you buy must be less than or equal to the max position size.\n",
    "                Only sell if you have shares in the portfolio to sell.\n",
    "                The quantity that you sell must be less than or equal to the current position.\"\"\"\n",
    "            ),\n",
    "            MessagesPlaceholder(variable_name=\"messages\"),\n",
    "            (\n",
    "                \"human\",\n",
    "                f\"\"\"Based on the risk management data below, make your trading decision.\n",
    "\n",
    "                Risk Management Data: {last_message.content}\n",
    "\n",
    "                Here is the current portfolio:\n",
    "                Portfolio:\n",
    "                Cash: ${portfolio['cash']:.2f}\n",
    "                Current Position: {portfolio['stock']} shares\n",
    "\n",
    "                Only include the action and quantity.\n",
    "\n",
    "                Remember, the action must be either buy, sell, or hold.\n",
    "                You can only buy if you have available cash.\n",
    "                You can only sell if you have shares in the portfolio to sell.\n",
    "                \"\"\"\n",
    "            ),\n",
    "        ]\n",
    "    )\n",
    "\n",
    "    chain = portfolio_prompt | llm\n",
    "    result = chain.invoke(state).content\n",
    "    return {\"messages\": [HumanMessage(content=result, name=\"portfolio_management\")]}"
   ]
  },
  {
   "cell_type": "markdown",
   "id": "e18d2024063fdf1e",
   "metadata": {},
   "source": [
    "# Create Agent Graph"
   ]
  },
  {
   "cell_type": "code",
   "execution_count": 21,
   "id": "8bb160ac6c6f3cf8",
   "metadata": {
    "ExecuteTime": {
     "end_time": "2024-12-03T22:08:00.953200Z",
     "start_time": "2024-12-03T22:08:00.949624Z"
    }
   },
   "outputs": [],
   "source": [
    "# Define the new workflow\n",
    "workflow = StateGraph(MessagesState)\n",
    "\n",
    "# Add nodes\n",
    "workflow.add_node(\"market_data_agent\", market_data_agent)\n",
    "workflow.add_node(\"quant_agent\", quant_agent)\n",
    "workflow.add_node(\"risk_management_agent\", risk_management_agent)\n",
    "workflow.add_node(\"portfolio_management_agent\", portfolio_management_agent)\n",
    "\n",
    "# Define the workflow\n",
    "workflow.add_edge(START, \"market_data_agent\")\n",
    "workflow.add_edge(\"market_data_agent\", \"quant_agent\")\n",
    "workflow.add_edge(\"quant_agent\", \"risk_management_agent\")\n",
    "workflow.add_edge(\"risk_management_agent\", \"portfolio_management_agent\")\n",
    "workflow.add_edge(\"portfolio_management_agent\", END)\n",
    "\n",
    "app = workflow.compile()"
   ]
  },
  {
   "cell_type": "code",
   "execution_count": 22,
   "id": "878e349bb1827c0a",
   "metadata": {
    "ExecuteTime": {
     "end_time": "2024-12-03T22:08:00.963197Z",
     "start_time": "2024-12-03T22:08:00.960726Z"
    }
   },
   "outputs": [],
   "source": [
    "# Update the run_agent function to include portfolio state\n",
    "def run_agent(ticker: str, start_date: str, end_date: str, portfolio: dict):\n",
    "    final_state = app.invoke(\n",
    "        {\n",
    "            \"messages\": [\n",
    "                HumanMessage(\n",
    "                    content=\"Make a trading decision based on the provided data.\",\n",
    "                    additional_kwargs={\n",
    "                        \"ticker\": ticker,\n",
    "                        \"start_date\": start_date,\n",
    "                        \"end_date\": end_date,\n",
    "                        \"portfolio\": portfolio\n",
    "                    },\n",
    "                )\n",
    "            ]\n",
    "        },\n",
    "        config={\"configurable\": {\"thread_id\": 42}},\n",
    "    )\n",
    "    return final_state[\"messages\"][-1].content"
   ]
  },
  {
   "cell_type": "markdown",
   "id": "7705340f1c01fab4",
   "metadata": {},
   "source": [
    "# Get Stock Price and Trading Signals"
   ]
  },
  {
   "cell_type": "code",
   "execution_count": 23,
   "id": "f523bd6b7aa44760",
   "metadata": {
    "ExecuteTime": {
     "end_time": "2024-12-03T22:08:00.976014Z",
     "start_time": "2024-12-03T22:08:00.973760Z"
    }
   },
   "outputs": [],
   "source": [
    "# Define a function to calculate trading signals\n",
    "def calculate_trading_signals(historical_data: pd.DataFrame) -> dict:\n",
    "    \"\"\"Calculate trading signals based on SMA crossover strategy\"\"\"\n",
    "    # Calculate SMAs\n",
    "    sma_5 = historical_data[\"close\"].rolling(window=5).mean()\n",
    "    sma_20 = historical_data[\"close\"].rolling(window=20).mean()\n",
    "\n",
    "    # Get the last two points of each SMA to check for crossover\n",
    "    sma_5_prev, sma_5_curr = sma_5.iloc[-2:]\n",
    "    sma_20_prev, sma_20_curr = sma_20.iloc[-2:]\n",
    "\n",
    "    return {\n",
    "        \"current_price\": historical_data[\"close\"].iloc[-1],\n",
    "        \"sma_5_curr\": sma_5_curr,\n",
    "        \"sma_5_prev\": sma_5_prev,\n",
    "        \"sma_20_curr\": sma_20_curr,\n",
    "        \"sma_20_prev\": sma_20_prev,\n",
    "        \"volume\": historical_data[\"volume\"].iloc[-1],\n",
    "    }"
   ]
  },
  {
   "cell_type": "code",
   "execution_count": 24,
   "id": "5a960d5ed770e00c",
   "metadata": {
    "ExecuteTime": {
     "end_time": "2024-12-03T22:08:00.982202Z",
     "start_time": "2024-12-03T22:08:00.979134Z"
    }
   },
   "outputs": [],
   "source": [
    "# obb.account.login(pat=os.environ.get(\"OPENBB_PAT\"))\n",
    "\n",
    "# Move the price data fetching function into the agent's scope\n",
    "def get_price_data(ticker, start_date, end_date):\n",
    "    df = obb.equity.price.historical(ticker, start_date, end_date, provider='yfinance').to_dataframe()\n",
    "\n",
    "    return df"
   ]
  },
  {
   "cell_type": "markdown",
   "id": "51b4bb5b13cc86e7",
   "metadata": {},
   "source": [
    "# Create Backtester"
   ]
  },
  {
   "cell_type": "code",
   "execution_count": 25,
   "id": "89dab68ec4c272",
   "metadata": {
    "ExecuteTime": {
     "end_time": "2024-12-03T22:08:00.996792Z",
     "start_time": "2024-12-03T22:08:00.988392Z"
    }
   },
   "outputs": [],
   "source": [
    "class Backtester:\n",
    "    def __init__(self, agent, ticker, start_date, end_date, initial_capital):\n",
    "        self.agent = agent\n",
    "        self.ticker = ticker\n",
    "        self.start_date = start_date\n",
    "        self.end_date = end_date\n",
    "        self.initial_capital = initial_capital\n",
    "        self.portfolio = {\"cash\": initial_capital, \"stock\": 0}\n",
    "        self.portfolio_values = []\n",
    "\n",
    "    def parse_action(self, agent_output):\n",
    "        try:\n",
    "            # Expect JSON output from agent\n",
    "            decision = json.loads(\"{\" + agent_output + \"}\")\n",
    "            return decision[\"action\"], decision[\"quantity\"]\n",
    "        except:\n",
    "            return \"hold\", 0\n",
    "\n",
    "    def execute_trade(self, action, quantity, current_price):\n",
    "        \"\"\"Validate and execute trades based on portfolio constraints\"\"\"\n",
    "        if action == \"buy\" and quantity > 0:\n",
    "            cost = quantity * current_price\n",
    "            if cost <= self.portfolio[\"cash\"]:\n",
    "                self.portfolio[\"stock\"] += quantity\n",
    "                self.portfolio[\"cash\"] -= cost\n",
    "                return quantity\n",
    "            else:\n",
    "                # Calculate maximum affordable quantity\n",
    "                max_quantity = self.portfolio[\"cash\"] // current_price\n",
    "                if max_quantity > 0:\n",
    "                    self.portfolio[\"stock\"] += max_quantity\n",
    "                    self.portfolio[\"cash\"] -= max_quantity * current_price\n",
    "                    return max_quantity\n",
    "                return 0\n",
    "        elif action == \"sell\" and quantity > 0:\n",
    "            quantity = min(quantity, self.portfolio[\"stock\"])\n",
    "            if quantity > 0:\n",
    "                self.portfolio[\"cash\"] += quantity * current_price\n",
    "                self.portfolio[\"stock\"] -= quantity\n",
    "                return quantity\n",
    "            return 0\n",
    "        return 0\n",
    "\n",
    "    def run_backtest(self):\n",
    "        dates = pd.date_range(self.start_date, self.end_date, freq=\"B\")\n",
    "\n",
    "        print(\"\\nStarting backtest...\")\n",
    "        print(f\"{'Date':<12} {'Action':<6} {'Quantity':>8} {'Price':>8} {'Cash':>12} {'Stock':>8} {'Total Value':>12}\")\n",
    "        print(\"-\" * 70)\n",
    "\n",
    "        for current_date in dates:\n",
    "            lookback_start = (current_date - timedelta(days=30)).strftime(\"%Y-%m-%d\")\n",
    "            current_date_str = current_date.strftime(\"%Y-%m-%d\")\n",
    "\n",
    "            agent_output = self.agent(\n",
    "                ticker=self.ticker,\n",
    "                start_date=lookback_start,\n",
    "                end_date=current_date_str,\n",
    "                portfolio=self.portfolio\n",
    "            )\n",
    "            action, quantity = self.parse_action(agent_output)\n",
    "            df = get_price_data(self.ticker, lookback_start, current_date_str)\n",
    "            current_price = df.iloc[-1]['close']\n",
    "\n",
    "            # Execute the trade with validation\n",
    "            executed_quantity = self.execute_trade(action, quantity, current_price)\n",
    "\n",
    "            # Update total portfolio value\n",
    "            total_value = self.portfolio[\"cash\"] + self.portfolio[\"stock\"] * current_price\n",
    "            self.portfolio[\"portfolio_value\"] = total_value\n",
    "\n",
    "            # Log the current state with executed quantity\n",
    "            print(\n",
    "                f\"{current_date.strftime('%Y-%m-%d'):<12} {action:<6} {executed_quantity:>8} {current_price:>8.2f} \"\n",
    "                f\"{self.portfolio['cash']:>12.2f} {self.portfolio['stock']:>8} {total_value:>12.2f}\"\n",
    "            )\n",
    "\n",
    "            # Record the portfolio value\n",
    "            self.portfolio_values.append(\n",
    "                {\"Date\": current_date, \"Portfolio Value\": total_value}\n",
    "            )\n",
    "\n",
    "    def analyze_performance(self):\n",
    "        # Convert portfolio values to DataFrame\n",
    "        performance_df = pd.DataFrame(self.portfolio_values).set_index(\"Date\")\n",
    "\n",
    "        # Calculate total return\n",
    "        total_return = (\n",
    "                           self.portfolio[\"portfolio_value\"] - self.initial_capital\n",
    "                       ) / self.initial_capital\n",
    "        print(f\"Total Return: {total_return * 100:.2f}%\")\n",
    "\n",
    "        # Plot the portfolio value over time\n",
    "        performance_df[\"Portfolio Value\"].plot(\n",
    "            title=\"Portfolio Value Over Time\", figsize=(12, 6)\n",
    "        )\n",
    "        plt.ylabel(\"Portfolio Value ($)\")\n",
    "        plt.xlabel(\"Date\")\n",
    "        plt.show()\n",
    "\n",
    "        # Compute daily returns\n",
    "        performance_df[\"Daily Return\"] = performance_df[\"Portfolio Value\"].pct_change()\n",
    "\n",
    "        # Calculate Sharpe Ratio (assuming 252 trading days in a year)\n",
    "        mean_daily_return = performance_df[\"Daily Return\"].mean()\n",
    "        std_daily_return = performance_df[\"Daily Return\"].std()\n",
    "        sharpe_ratio = (mean_daily_return / std_daily_return) * (252 ** 0.5)\n",
    "        print(f\"Sharpe Ratio: {sharpe_ratio:.2f}\")\n",
    "\n",
    "        # Calculate Maximum Drawdown\n",
    "        rolling_max = performance_df[\"Portfolio Value\"].cummax()\n",
    "        drawdown = performance_df[\"Portfolio Value\"] / rolling_max - 1\n",
    "        max_drawdown = drawdown.min()\n",
    "        print(f\"Maximum Drawdown: {max_drawdown * 100:.2f}%\")\n",
    "\n",
    "        return performance_df"
   ]
  },
  {
   "cell_type": "markdown",
   "id": "18a6dab6a6e1c96e",
   "metadata": {},
   "source": [
    "# Run the Backtest"
   ]
  },
  {
   "cell_type": "code",
   "execution_count": null,
   "id": "547c4d51a824b6e9",
   "metadata": {
    "ExecuteTime": {
     "end_time": "2024-12-03T22:08:05.601775Z",
     "start_time": "2024-12-03T22:08:01.002985Z"
    }
   },
   "outputs": [],
   "source": [
    "# Define parameters\n",
    "ticker = \"AERT\"  # Example ticker symbol\n",
    "start_date = \"2024-10-01\"  # Adjust as needed\n",
    "end_date = \"2024-12-30\"  # Adjust as needed\n",
    "initial_capital = 100000  # $100,000\n",
    "\n",
    "# Create an instance of Backtester\n",
    "backtester = Backtester(\n",
    "    agent=run_agent,\n",
    "    ticker=ticker,\n",
    "    start_date=start_date,\n",
    "    end_date=end_date,\n",
    "    initial_capital=initial_capital,\n",
    ")\n",
    "\n",
    "# Run the backtesting process\n",
    "backtester.run_backtest()\n",
    "performance_df = backtester.analyze_performance()"
   ]
  }
 ],
 "metadata": {
  "kernelspec": {
   "display_name": "venv",
   "language": "python",
   "name": "python3"
  },
  "language_info": {
   "codemirror_mode": {
    "name": "ipython",
    "version": 3
   },
   "file_extension": ".py",
   "mimetype": "text/x-python",
   "name": "python",
   "nbconvert_exporter": "python",
   "pygments_lexer": "ipython3",
   "version": "3.12.8"
  }
 },
 "nbformat": 4,
 "nbformat_minor": 5
}
