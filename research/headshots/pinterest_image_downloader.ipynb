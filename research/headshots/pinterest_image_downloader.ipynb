{
 "cells": [
  {
   "cell_type": "code",
   "execution_count": null,
   "id": "initial_id",
   "metadata": {
    "collapsed": true
   },
   "outputs": [],
   "source": [
    "from playwright.sync_api import sync_playwright, Playwright\n",
    "from bs4 import BeautifulSoup\n",
    "import requests\n",
    "import time\n",
    "import os\n",
    "\n",
    "search = input('What do you want to search for? ')\n",
    "scroll_num_of_times = int(input('How many pages do you wish to sacroll through? '))\n",
    "\n",
    "path = input('The absolute path you want the downloaded images to be saved to')\n",
    "\n",
    "def run(playwright: Playwright) -> None:\n",
    "    browser = playwright.chromium.launch(headless=False)\n",
    "    context = browser.new_context()\n",
    "    page = context.new_page()\n",
    "\n",
    "    page.goto(\"https://in.pinterest.com/ideas/\")\n",
    "\n",
    "    page.locator(\"[data-test-id=\\\"search-input\\\"]\").fill(search)\n",
    "    page.locator(\"[data-test-id=\\\"search-input\\\"]\").press(\"Enter\")\n",
    "\n",
    "    time.sleep(5)\n",
    "\n",
    "    for _ in range(1, scroll_num_of_times):\n",
    "        page.mouse.wheel(0, 4000)\n",
    "        time.sleep(2)\n",
    "\n",
    "    html = page.inner_html('div.vbI.XiG')\n",
    "\n",
    "    soup = BeautifulSoup(html, 'lxml')\n",
    "\n",
    "    for links in soup.find_all('img'):\n",
    "        imageName = links.get('src').strip('https://i.pinimg.com/236x/d3/4c/fc/.jpg')\n",
    "        name = imageName.replace('/', '_')+'.jpg'\n",
    "        imageLink = links.get('src')\n",
    "\n",
    "        with open(os.path.join(path, name), \"wb\") as f:\n",
    "            image = requests.get(imageLink)\n",
    "            f.write(image.content)\n",
    "\n",
    "            time.sleep(2)\n",
    "\n",
    "    # ---------------------\n",
    "    context.close()\n",
    "    browser.close()\n",
    "\n",
    "\n",
    "with sync_playwright() as playwright:\n",
    "    run(playwright)"
   ]
  }
 ],
 "metadata": {
  "kernelspec": {
   "display_name": "Python 3",
   "language": "python",
   "name": "python3"
  },
  "language_info": {
   "codemirror_mode": {
    "name": "ipython",
    "version": 2
   },
   "file_extension": ".py",
   "mimetype": "text/x-python",
   "name": "python",
   "nbconvert_exporter": "python",
   "pygments_lexer": "ipython2",
   "version": "2.7.6"
  }
 },
 "nbformat": 4,
 "nbformat_minor": 5
}
