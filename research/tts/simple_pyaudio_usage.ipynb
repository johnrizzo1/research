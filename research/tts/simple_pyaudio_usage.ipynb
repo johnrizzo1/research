{
 "cells": [
  {
   "cell_type": "code",
   "execution_count": 1,
   "metadata": {},
   "outputs": [
    {
     "ename": "OSError",
     "evalue": "cannot load library 'libportaudio.so.2': libportaudio.so.2: cannot open shared object file: No such file or directory",
     "output_type": "error",
     "traceback": [
      "\u001b[0;31m---------------------------------------------------------------------------\u001b[0m",
      "\u001b[0;31mOSError\u001b[0m                                   Traceback (most recent call last)",
      "Cell \u001b[0;32mIn[1], line 2\u001b[0m\n\u001b[1;32m      1\u001b[0m \u001b[38;5;28;01mimport\u001b[39;00m \u001b[38;5;21;01masyncio\u001b[39;00m\n\u001b[0;32m----> 2\u001b[0m \u001b[38;5;28;01mimport\u001b[39;00m \u001b[38;5;21;01msounddevice\u001b[39;00m \u001b[38;5;28;01mas\u001b[39;00m \u001b[38;5;21;01msd\u001b[39;00m\n\u001b[1;32m      3\u001b[0m \u001b[38;5;28;01mimport\u001b[39;00m \u001b[38;5;21;01mnumpy\u001b[39;00m \u001b[38;5;28;01mas\u001b[39;00m \u001b[38;5;21;01mnp\u001b[39;00m\n\u001b[1;32m      5\u001b[0m \u001b[38;5;66;03m# AUDIO_RECORDING = \u001b[39;00m\n",
      "File \u001b[0;32m~/Projects/ai/ada/.venv/lib/python3.12/site-packages/sounddevice.py:72\u001b[0m\n\u001b[1;32m     70\u001b[0m     \u001b[38;5;28;01melse\u001b[39;00m:\n\u001b[1;32m     71\u001b[0m         \u001b[38;5;28;01mraise\u001b[39;00m \u001b[38;5;167;01mOSError\u001b[39;00m(\u001b[38;5;124m'\u001b[39m\u001b[38;5;124mPortAudio library not found\u001b[39m\u001b[38;5;124m'\u001b[39m)\n\u001b[0;32m---> 72\u001b[0m     _lib \u001b[38;5;241m=\u001b[39m \u001b[43m_ffi\u001b[49m\u001b[38;5;241;43m.\u001b[39;49m\u001b[43mdlopen\u001b[49m\u001b[43m(\u001b[49m\u001b[43m_libname\u001b[49m\u001b[43m)\u001b[49m\n\u001b[1;32m     73\u001b[0m \u001b[38;5;28;01mexcept\u001b[39;00m \u001b[38;5;167;01mOSError\u001b[39;00m:\n\u001b[1;32m     74\u001b[0m     \u001b[38;5;28;01mif\u001b[39;00m _platform\u001b[38;5;241m.\u001b[39msystem() \u001b[38;5;241m==\u001b[39m \u001b[38;5;124m'\u001b[39m\u001b[38;5;124mDarwin\u001b[39m\u001b[38;5;124m'\u001b[39m:\n",
      "\u001b[0;31mOSError\u001b[0m: cannot load library 'libportaudio.so.2': libportaudio.so.2: cannot open shared object file: No such file or directory"
     ]
    }
   ],
   "source": [
    "import asyncio\n",
    "import sounddevice as sd\n",
    "import numpy as np\n",
    "\n",
    "# AUDIO_RECORDING = \n",
    "RATE=44100\n",
    "CHUNK=1024\n",
    "CHANNELS=1\n",
    "\n",
    "async def record_audio(queue):\n",
    "    \"\"\"Records audio and puts it into a queue.\"\"\"\n",
    "    with sd.InputStream(samplerate=RATE, channels=CHANNELS, dtype='float32') as stream:\n",
    "        while True:\n",
    "            data, overflowed = stream.read(CHUNK)\n",
    "            if overflowed:\n",
    "                print('Buffer overflow!')\n",
    "            await queue.put(data)\n",
    "\n",
    "async def process_audio(queue):\n",
    "    \"\"\"Processes audio data from the queue.\"\"\"\n",
    "    while True:\n",
    "        data = await queue.get()\n",
    "        # Process the audio data here\n",
    "        print(\"Processing audio data:\", data.shape)\n",
    "\n",
    "# async def play_audio(queue):\n",
    "#     \"\"\"Plays audio data from the queue.\"\"\"\n",
    "#     while True:\n",
    "#         data = await queue.get()\n",
    "#         sd.play(data, samplerate=RATE)\n",
    "#         await asyncio.sleep(0.1)  # Sleep for a short time to avoid busy-waiting\n",
    "\n",
    "async def main():\n",
    "    queue = asyncio.Queue()\n",
    "    record_task = asyncio.create_task(record_audio(queue))\n",
    "    process_task = asyncio.create_task(process_audio(queue))\n",
    "    # play_task = asyncio.create_task(play_audio(queue))\n",
    "    await asyncio.gather(record_task, process_task)\n",
    "\n",
    "    data = await queue.get()\n",
    "    sd.play(data)\n",
    "\n",
    "if __name__ == '__main__':\n",
    "    asyncio.run(main())"
   ]
  }
 ],
 "metadata": {
  "kernelspec": {
   "display_name": ".venv",
   "language": "python",
   "name": "python3"
  },
  "language_info": {
   "codemirror_mode": {
    "name": "ipython",
    "version": 3
   },
   "file_extension": ".py",
   "mimetype": "text/x-python",
   "name": "python",
   "nbconvert_exporter": "python",
   "pygments_lexer": "ipython3",
   "version": "3.12.7"
  }
 },
 "nbformat": 4,
 "nbformat_minor": 2
}
