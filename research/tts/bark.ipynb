{
 "cells": [
  {
   "cell_type": "code",
   "execution_count": null,
   "metadata": {
    "ExecuteTime": {
     "end_time": "2024-12-01T22:36:48.764723Z",
     "start_time": "2024-12-01T22:35:28.519385Z"
    }
   },
   "outputs": [],
   "source": [
    "import torch.backends.cuda\n",
    "import torch\n",
    "\n",
    "# https://github.com/suno-ai/bark\n",
    "from transformers import AutoProcessor, BarkModel\n",
    "\n",
    "processor = AutoProcessor.from_pretrained(\"suno/bark\")\n",
    "model = BarkModel.from_pretrained(\"suno/bark\")\n",
    "inputs = processor(\"Hello, [laugh] my dog is cute\", voice_preset=\"v2/en_speaker_6\")\n",
    "audio_array = model.generate(**inputs)\n",
    "\n",
    "if torch.cuda.is_available():\n",
    "   audio_array = audio_array.cuda().numpy().squeeze()\n",
    "else:\n",
    "   print(\"Torch is not built with cuda.  This will take a while\")\n",
    "   audio_array = audio_array.cpu().numpy().squeeze()"
   ]
  }
 ],
 "metadata": {
  "kernelspec": {
   "display_name": ".venv",
   "language": "python",
   "name": "python3"
  },
  "language_info": {
   "codemirror_mode": {
    "name": "ipython",
    "version": 3
   },
   "file_extension": ".py",
   "mimetype": "text/x-python",
   "name": "python",
   "nbconvert_exporter": "python",
   "pygments_lexer": "ipython3",
   "version": "3.12.7"
  }
 },
 "nbformat": 4,
 "nbformat_minor": 2
}
