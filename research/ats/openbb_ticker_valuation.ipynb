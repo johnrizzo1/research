{
 "cells": [
  {
   "cell_type": "markdown",
   "id": "81d15c3e",
   "metadata": {},
   "source": [
    "I'm using this sheet to help me create various technical metrics that the agent can use to determine if a company is under or over valued."
   ]
  },
  {
   "cell_type": "code",
   "execution_count": 1,
   "id": "initial_id",
   "metadata": {
    "collapsed": true
   },
   "outputs": [
    {
     "name": "stderr",
     "output_type": "stream",
     "text": [
      "UsageError: Line magic function `%` not found.\n"
     ]
    }
   ],
   "source": [
    "% pip install -U openbb"
   ]
  },
  {
   "cell_type": "code",
   "execution_count": 2,
   "id": "199d3837",
   "metadata": {},
   "outputs": [],
   "source": [
    "from openbb import obb\n",
    "from datetime import datetime, timedelta\n",
    "import os"
   ]
  },
  {
   "cell_type": "code",
   "execution_count": 3,
   "id": "faa230f7b16b49cf",
   "metadata": {
    "ExecuteTime": {
     "end_time": "2024-12-03T16:41:52.140528Z",
     "start_time": "2024-12-03T16:41:51.825502Z"
    }
   },
   "outputs": [
    {
     "data": {
      "text/plain": [
       "Credentials\n",
       "\n",
       "benzinga_api_key: None\n",
       "fmp_api_key: **********\n",
       "fred_api_key: **********\n",
       "intrinio_api_key: None\n",
       "polygon_api_key: **********\n",
       "tiingo_token: None\n",
       "tradingeconomics_api_key: **********"
      ]
     },
     "execution_count": 3,
     "metadata": {},
     "output_type": "execute_result"
    }
   ],
   "source": [
    "obb.account.login(pat=os.environ.get(\"OPENBB_PAT\"))\n",
    "obb.user.credentials"
   ]
  },
  {
   "cell_type": "code",
   "execution_count": 4,
   "id": "618b67b0d06d6bf",
   "metadata": {
    "ExecuteTime": {
     "end_time": "2024-12-03T16:57:41.294846Z",
     "start_time": "2024-12-03T16:57:41.161189Z"
    }
   },
   "outputs": [
    {
     "data": {
      "text/html": [
       "<div>\n",
       "<style scoped>\n",
       "    .dataframe tbody tr th:only-of-type {\n",
       "        vertical-align: middle;\n",
       "    }\n",
       "\n",
       "    .dataframe tbody tr th {\n",
       "        vertical-align: top;\n",
       "    }\n",
       "\n",
       "    .dataframe thead th {\n",
       "        text-align: right;\n",
       "    }\n",
       "</style>\n",
       "<table border=\"1\" class=\"dataframe\">\n",
       "  <thead>\n",
       "    <tr style=\"text-align: right;\">\n",
       "      <th></th>\n",
       "      <th>open</th>\n",
       "      <th>high</th>\n",
       "      <th>low</th>\n",
       "      <th>close</th>\n",
       "      <th>volume</th>\n",
       "    </tr>\n",
       "    <tr>\n",
       "      <th>date</th>\n",
       "      <th></th>\n",
       "      <th></th>\n",
       "      <th></th>\n",
       "      <th></th>\n",
       "      <th></th>\n",
       "    </tr>\n",
       "  </thead>\n",
       "  <tbody>\n",
       "    <tr>\n",
       "      <th>2024-12-13</th>\n",
       "      <td>247.820007</td>\n",
       "      <td>249.289993</td>\n",
       "      <td>246.240005</td>\n",
       "      <td>248.130005</td>\n",
       "      <td>33155300</td>\n",
       "    </tr>\n",
       "    <tr>\n",
       "      <th>2024-12-16</th>\n",
       "      <td>247.990005</td>\n",
       "      <td>251.380005</td>\n",
       "      <td>247.649994</td>\n",
       "      <td>251.039993</td>\n",
       "      <td>51694800</td>\n",
       "    </tr>\n",
       "    <tr>\n",
       "      <th>2024-12-17</th>\n",
       "      <td>250.080002</td>\n",
       "      <td>253.830002</td>\n",
       "      <td>249.779999</td>\n",
       "      <td>253.479996</td>\n",
       "      <td>51356400</td>\n",
       "    </tr>\n",
       "    <tr>\n",
       "      <th>2024-12-18</th>\n",
       "      <td>252.160004</td>\n",
       "      <td>254.279999</td>\n",
       "      <td>247.740005</td>\n",
       "      <td>248.050003</td>\n",
       "      <td>56774100</td>\n",
       "    </tr>\n",
       "    <tr>\n",
       "      <th>2024-12-19</th>\n",
       "      <td>247.500000</td>\n",
       "      <td>252.000000</td>\n",
       "      <td>247.089996</td>\n",
       "      <td>249.789993</td>\n",
       "      <td>60882300</td>\n",
       "    </tr>\n",
       "    <tr>\n",
       "      <th>2024-12-20</th>\n",
       "      <td>248.039993</td>\n",
       "      <td>255.000000</td>\n",
       "      <td>245.690002</td>\n",
       "      <td>254.490005</td>\n",
       "      <td>147495300</td>\n",
       "    </tr>\n",
       "    <tr>\n",
       "      <th>2024-12-23</th>\n",
       "      <td>254.770004</td>\n",
       "      <td>255.649994</td>\n",
       "      <td>253.449997</td>\n",
       "      <td>255.270004</td>\n",
       "      <td>40858800</td>\n",
       "    </tr>\n",
       "    <tr>\n",
       "      <th>2024-12-24</th>\n",
       "      <td>255.490005</td>\n",
       "      <td>258.209991</td>\n",
       "      <td>255.289993</td>\n",
       "      <td>258.200012</td>\n",
       "      <td>23234700</td>\n",
       "    </tr>\n",
       "    <tr>\n",
       "      <th>2024-12-26</th>\n",
       "      <td>258.190002</td>\n",
       "      <td>260.100006</td>\n",
       "      <td>257.630005</td>\n",
       "      <td>259.019989</td>\n",
       "      <td>27237100</td>\n",
       "    </tr>\n",
       "    <tr>\n",
       "      <th>2024-12-27</th>\n",
       "      <td>257.829987</td>\n",
       "      <td>258.700012</td>\n",
       "      <td>253.059998</td>\n",
       "      <td>255.589996</td>\n",
       "      <td>42355300</td>\n",
       "    </tr>\n",
       "    <tr>\n",
       "      <th>2024-12-30</th>\n",
       "      <td>252.229996</td>\n",
       "      <td>253.500000</td>\n",
       "      <td>250.750000</td>\n",
       "      <td>252.199997</td>\n",
       "      <td>35557500</td>\n",
       "    </tr>\n",
       "    <tr>\n",
       "      <th>2024-12-31</th>\n",
       "      <td>252.440002</td>\n",
       "      <td>253.279999</td>\n",
       "      <td>249.429993</td>\n",
       "      <td>250.419998</td>\n",
       "      <td>39480700</td>\n",
       "    </tr>\n",
       "    <tr>\n",
       "      <th>2025-01-02</th>\n",
       "      <td>248.929993</td>\n",
       "      <td>249.100006</td>\n",
       "      <td>241.820007</td>\n",
       "      <td>243.850006</td>\n",
       "      <td>55740700</td>\n",
       "    </tr>\n",
       "    <tr>\n",
       "      <th>2025-01-03</th>\n",
       "      <td>243.360001</td>\n",
       "      <td>244.179993</td>\n",
       "      <td>241.889999</td>\n",
       "      <td>243.360001</td>\n",
       "      <td>40244100</td>\n",
       "    </tr>\n",
       "    <tr>\n",
       "      <th>2025-01-06</th>\n",
       "      <td>244.309998</td>\n",
       "      <td>247.330002</td>\n",
       "      <td>243.199997</td>\n",
       "      <td>245.000000</td>\n",
       "      <td>45045600</td>\n",
       "    </tr>\n",
       "    <tr>\n",
       "      <th>2025-01-07</th>\n",
       "      <td>242.979996</td>\n",
       "      <td>245.550003</td>\n",
       "      <td>241.350006</td>\n",
       "      <td>242.210007</td>\n",
       "      <td>40856000</td>\n",
       "    </tr>\n",
       "    <tr>\n",
       "      <th>2025-01-08</th>\n",
       "      <td>241.919998</td>\n",
       "      <td>243.710007</td>\n",
       "      <td>240.050003</td>\n",
       "      <td>242.699997</td>\n",
       "      <td>37628900</td>\n",
       "    </tr>\n",
       "    <tr>\n",
       "      <th>2025-01-10</th>\n",
       "      <td>240.009995</td>\n",
       "      <td>240.160004</td>\n",
       "      <td>233.000000</td>\n",
       "      <td>236.850006</td>\n",
       "      <td>61679400</td>\n",
       "    </tr>\n",
       "  </tbody>\n",
       "</table>\n",
       "</div>"
      ],
      "text/plain": [
       "                  open        high         low       close     volume\n",
       "date                                                                 \n",
       "2024-12-13  247.820007  249.289993  246.240005  248.130005   33155300\n",
       "2024-12-16  247.990005  251.380005  247.649994  251.039993   51694800\n",
       "2024-12-17  250.080002  253.830002  249.779999  253.479996   51356400\n",
       "2024-12-18  252.160004  254.279999  247.740005  248.050003   56774100\n",
       "2024-12-19  247.500000  252.000000  247.089996  249.789993   60882300\n",
       "2024-12-20  248.039993  255.000000  245.690002  254.490005  147495300\n",
       "2024-12-23  254.770004  255.649994  253.449997  255.270004   40858800\n",
       "2024-12-24  255.490005  258.209991  255.289993  258.200012   23234700\n",
       "2024-12-26  258.190002  260.100006  257.630005  259.019989   27237100\n",
       "2024-12-27  257.829987  258.700012  253.059998  255.589996   42355300\n",
       "2024-12-30  252.229996  253.500000  250.750000  252.199997   35557500\n",
       "2024-12-31  252.440002  253.279999  249.429993  250.419998   39480700\n",
       "2025-01-02  248.929993  249.100006  241.820007  243.850006   55740700\n",
       "2025-01-03  243.360001  244.179993  241.889999  243.360001   40244100\n",
       "2025-01-06  244.309998  247.330002  243.199997  245.000000   45045600\n",
       "2025-01-07  242.979996  245.550003  241.350006  242.210007   40856000\n",
       "2025-01-08  241.919998  243.710007  240.050003  242.699997   37628900\n",
       "2025-01-10  240.009995  240.160004  233.000000  236.850006   61679400"
      ]
     },
     "execution_count": 4,
     "metadata": {},
     "output_type": "execute_result"
    }
   ],
   "source": [
    "now = datetime.now()\n",
    "end_date = datetime(\n",
    "    year=now.year,\n",
    "    month=now.month,\n",
    "    day=now.day)\n",
    "delta = timedelta(days=30)\n",
    "start_date = end_date - delta\n",
    "\n",
    "\n",
    "output = obb.equity.price.historical(\"AAPL\", start_date=start_date, end_date=end_date, provider='yfinance')\n",
    "df = output.to_dataframe()\n",
    "df.head()\n",
    "df"
   ]
  },
  {
   "cell_type": "code",
   "execution_count": null,
   "id": "4479bf152ae896a0",
   "metadata": {},
   "outputs": [],
   "source": [
    "obb.equity.search(\"JPMorgan\", provider=\"sec\").to_df().head(3)"
   ]
  },
  {
   "cell_type": "code",
   "execution_count": null,
   "id": "a9bc383c927fc841",
   "metadata": {},
   "outputs": [],
   "source": [
    "obb.etf.search(\"gold\", provider=\"fmp\").to_df().iloc[-5:]"
   ]
  },
  {
   "cell_type": "code",
   "execution_count": 5,
   "id": "d09bfba88ba2c45a",
   "metadata": {},
   "outputs": [
    {
     "name": "stdout",
     "output_type": "stream",
     "text": [
      "10015\n"
     ]
    },
    {
     "data": {
      "text/html": [
       "<div>\n",
       "<style scoped>\n",
       "    .dataframe tbody tr th:only-of-type {\n",
       "        vertical-align: middle;\n",
       "    }\n",
       "\n",
       "    .dataframe tbody tr th {\n",
       "        vertical-align: top;\n",
       "    }\n",
       "\n",
       "    .dataframe thead th {\n",
       "        text-align: right;\n",
       "    }\n",
       "</style>\n",
       "<table border=\"1\" class=\"dataframe\">\n",
       "  <thead>\n",
       "    <tr style=\"text-align: right;\">\n",
       "      <th></th>\n",
       "      <th>symbol</th>\n",
       "      <th>name</th>\n",
       "      <th>cik</th>\n",
       "    </tr>\n",
       "  </thead>\n",
       "  <tbody>\n",
       "    <tr>\n",
       "      <th>0</th>\n",
       "      <td>AAPL</td>\n",
       "      <td>Apple Inc.</td>\n",
       "      <td>320193</td>\n",
       "    </tr>\n",
       "    <tr>\n",
       "      <th>1</th>\n",
       "      <td>NVDA</td>\n",
       "      <td>NVIDIA CORP</td>\n",
       "      <td>1045810</td>\n",
       "    </tr>\n",
       "    <tr>\n",
       "      <th>2</th>\n",
       "      <td>MSFT</td>\n",
       "      <td>MICROSOFT CORP</td>\n",
       "      <td>789019</td>\n",
       "    </tr>\n",
       "    <tr>\n",
       "      <th>3</th>\n",
       "      <td>GOOGL</td>\n",
       "      <td>Alphabet Inc.</td>\n",
       "      <td>1652044</td>\n",
       "    </tr>\n",
       "    <tr>\n",
       "      <th>4</th>\n",
       "      <td>AMZN</td>\n",
       "      <td>AMAZON COM INC</td>\n",
       "      <td>1018724</td>\n",
       "    </tr>\n",
       "    <tr>\n",
       "      <th>5</th>\n",
       "      <td>META</td>\n",
       "      <td>Meta Platforms, Inc.</td>\n",
       "      <td>1326801</td>\n",
       "    </tr>\n",
       "    <tr>\n",
       "      <th>6</th>\n",
       "      <td>TSLA</td>\n",
       "      <td>Tesla, Inc.</td>\n",
       "      <td>1318605</td>\n",
       "    </tr>\n",
       "    <tr>\n",
       "      <th>7</th>\n",
       "      <td>AVGO</td>\n",
       "      <td>Broadcom Inc.</td>\n",
       "      <td>1730168</td>\n",
       "    </tr>\n",
       "    <tr>\n",
       "      <th>8</th>\n",
       "      <td>BRK-B</td>\n",
       "      <td>BERKSHIRE HATHAWAY INC</td>\n",
       "      <td>1067983</td>\n",
       "    </tr>\n",
       "    <tr>\n",
       "      <th>9</th>\n",
       "      <td>WMT</td>\n",
       "      <td>Walmart Inc.</td>\n",
       "      <td>104169</td>\n",
       "    </tr>\n",
       "  </tbody>\n",
       "</table>\n",
       "</div>"
      ],
      "text/plain": [
       "  symbol                    name      cik\n",
       "0   AAPL              Apple Inc.   320193\n",
       "1   NVDA             NVIDIA CORP  1045810\n",
       "2   MSFT          MICROSOFT CORP   789019\n",
       "3  GOOGL           Alphabet Inc.  1652044\n",
       "4   AMZN          AMAZON COM INC  1018724\n",
       "5   META    Meta Platforms, Inc.  1326801\n",
       "6   TSLA             Tesla, Inc.  1318605\n",
       "7   AVGO           Broadcom Inc.  1730168\n",
       "8  BRK-B  BERKSHIRE HATHAWAY INC  1067983\n",
       "9    WMT            Walmart Inc.   104169"
      ]
     },
     "execution_count": 5,
     "metadata": {},
     "output_type": "execute_result"
    }
   ],
   "source": [
    "all_companies = obb.equity.search(\"\", provider=\"sec\")\n",
    "print(len(all_companies.results))\n",
    "all_companies.to_df().head(10)"
   ]
  },
  {
   "cell_type": "code",
   "execution_count": 47,
   "id": "826b7bd9d34a6de5",
   "metadata": {
    "ExecuteTime": {
     "end_time": "2024-12-03T16:43:04.355016Z",
     "start_time": "2024-12-03T16:43:03.682752Z"
    }
   },
   "outputs": [
    {
     "name": "stderr",
     "output_type": "stream",
     "text": [
      "/tmp/ipykernel_67011/2901545030.py:8: UserWarning: Boolean Series key will be reindexed to match DataFrame index.\n",
      "  results = results[results.is_etf == False] \\\n",
      "/tmp/ipykernel_67011/2901545030.py:8: UserWarning: Boolean Series key will be reindexed to match DataFrame index.\n",
      "  results = results[results.is_etf == False] \\\n",
      "/tmp/ipykernel_67011/2901545030.py:8: UserWarning: Boolean Series key will be reindexed to match DataFrame index.\n",
      "  results = results[results.is_etf == False] \\\n",
      "/tmp/ipykernel_67011/2901545030.py:8: UserWarning: Boolean Series key will be reindexed to match DataFrame index.\n",
      "  results = results[results.is_etf == False] \\\n"
     ]
    },
    {
     "data": {
      "text/plain": [
       "'Results: 1213'"
      ]
     },
     "metadata": {},
     "output_type": "display_data"
    },
    {
     "ename": "TypeError",
     "evalue": "object of type 'method' has no len()",
     "output_type": "error",
     "traceback": [
      "\u001b[0;31m---------------------------------------------------------------------------\u001b[0m",
      "\u001b[0;31mTypeError\u001b[0m                                 Traceback (most recent call last)",
      "Cell \u001b[0;32mIn[47], line 18\u001b[0m\n\u001b[1;32m     15\u001b[0m exchanges \u001b[38;5;241m=\u001b[39m results[\u001b[38;5;124m'\u001b[39m\u001b[38;5;124mexchange\u001b[39m\u001b[38;5;124m'\u001b[39m]\u001b[38;5;241m.\u001b[39munique\n\u001b[1;32m     17\u001b[0m display(\u001b[38;5;124mf\u001b[39m\u001b[38;5;124m\"\u001b[39m\u001b[38;5;124mResults: \u001b[39m\u001b[38;5;132;01m{\u001b[39;00m\u001b[38;5;28mlen\u001b[39m(results)\u001b[38;5;132;01m}\u001b[39;00m\u001b[38;5;124m\"\u001b[39m)\n\u001b[0;32m---> 18\u001b[0m display(\u001b[38;5;124mf\u001b[39m\u001b[38;5;124m\"\u001b[39m\u001b[38;5;124mExchanges: \u001b[39m\u001b[38;5;132;01m{\u001b[39;00m\u001b[38;5;28;43mlen\u001b[39;49m\u001b[43m(\u001b[49m\u001b[43mexchanges\u001b[49m\u001b[43m)\u001b[49m\u001b[38;5;132;01m}\u001b[39;00m\u001b[38;5;124m\"\u001b[39m)\n\u001b[1;32m     19\u001b[0m results\u001b[38;5;241m.\u001b[39mconvert_dtypes()\n",
      "\u001b[0;31mTypeError\u001b[0m: object of type 'method' has no len()"
     ]
    }
   ],
   "source": [
    "results = obb.equity.screener(# , sector=\"technology\"\n",
    "                              # , industry=\"semiconductors\"\n",
    "                              country=\"US\"\n",
    "                              , exchange=\"nasdaq\"\n",
    "                              , provider=\"fmp\" # order \"yfinance\"\n",
    "                              ).to_df()\n",
    "                              \n",
    "results = results[results.is_etf == False] \\\n",
    "                 [results.isFund == False] \\\n",
    "                 [results.actively_trading == True] \\\n",
    "                 [results.price > 1] \\\n",
    "                 [results.market_cap > 300000000] \\\n",
    "                 [results.volume > 10000]\n",
    "\n",
    "\n",
    "display(f\"Results: {len(results)}\")\n",
    "# display(f\"Exchanges: {len(exchanges)}\")\n",
    "results.convert_dtypes()"
   ]
  },
  {
   "cell_type": "code",
   "execution_count": 62,
   "id": "8fafd1e3",
   "metadata": {},
   "outputs": [
    {
     "name": "stdout",
     "output_type": "stream",
     "text": [
      "['NASDAQ']\n"
     ]
    }
   ],
   "source": [
    "exchanges = results['exchange'].unique()\n",
    "print(exchanges) #.tolist())"
   ]
  },
  {
   "cell_type": "code",
   "execution_count": 7,
   "id": "9b46a613",
   "metadata": {},
   "outputs": [
    {
     "data": {
      "text/plain": [
       "Index(['symbol', 'name', 'market_cap', 'sector', 'industry', 'beta', 'price',\n",
       "       'last_annual_dividend', 'volume', 'exchange', 'exchange_name',\n",
       "       'country', 'is_etf', 'actively_trading', 'isFund'],\n",
       "      dtype='object')"
      ]
     },
     "execution_count": 7,
     "metadata": {},
     "output_type": "execute_result"
    }
   ],
   "source": [
    "results.columns"
   ]
  },
  {
   "cell_type": "code",
   "execution_count": 8,
   "id": "1b59a2fd",
   "metadata": {},
   "outputs": [
    {
     "data": {
      "text/html": [
       "<div>\n",
       "<style scoped>\n",
       "    .dataframe tbody tr th:only-of-type {\n",
       "        vertical-align: middle;\n",
       "    }\n",
       "\n",
       "    .dataframe tbody tr th {\n",
       "        vertical-align: top;\n",
       "    }\n",
       "\n",
       "    .dataframe thead th {\n",
       "        text-align: right;\n",
       "    }\n",
       "</style>\n",
       "<table border=\"1\" class=\"dataframe\">\n",
       "  <thead>\n",
       "    <tr style=\"text-align: right;\">\n",
       "      <th></th>\n",
       "      <th>symbol</th>\n",
       "      <th>name</th>\n",
       "      <th>market_cap</th>\n",
       "      <th>sector</th>\n",
       "      <th>industry</th>\n",
       "      <th>beta</th>\n",
       "      <th>price</th>\n",
       "      <th>last_annual_dividend</th>\n",
       "      <th>volume</th>\n",
       "      <th>exchange</th>\n",
       "      <th>exchange_name</th>\n",
       "      <th>country</th>\n",
       "      <th>is_etf</th>\n",
       "      <th>actively_trading</th>\n",
       "      <th>isFund</th>\n",
       "      <th>dividend_yield</th>\n",
       "    </tr>\n",
       "  </thead>\n",
       "  <tbody>\n",
       "    <tr>\n",
       "      <th>0</th>\n",
       "      <td>AAPL</td>\n",
       "      <td>Apple Inc.</td>\n",
       "      <td>3.580177e+12</td>\n",
       "      <td>Technology</td>\n",
       "      <td>Consumer Electronics</td>\n",
       "      <td>1.240</td>\n",
       "      <td>236.85</td>\n",
       "      <td>0.99</td>\n",
       "      <td>58293813.0</td>\n",
       "      <td>NASDAQ</td>\n",
       "      <td>NASDAQ Global Select</td>\n",
       "      <td>US</td>\n",
       "      <td>False</td>\n",
       "      <td>True</td>\n",
       "      <td>False</td>\n",
       "      <td>0.004180</td>\n",
       "    </tr>\n",
       "    <tr>\n",
       "      <th>1</th>\n",
       "      <td>NVDA</td>\n",
       "      <td>NVIDIA Corporation</td>\n",
       "      <td>3.328436e+12</td>\n",
       "      <td>Technology</td>\n",
       "      <td>Semiconductors</td>\n",
       "      <td>1.657</td>\n",
       "      <td>135.91</td>\n",
       "      <td>0.04</td>\n",
       "      <td>204822623.0</td>\n",
       "      <td>NASDAQ</td>\n",
       "      <td>NASDAQ Global Select</td>\n",
       "      <td>US</td>\n",
       "      <td>False</td>\n",
       "      <td>True</td>\n",
       "      <td>False</td>\n",
       "      <td>0.000294</td>\n",
       "    </tr>\n",
       "    <tr>\n",
       "      <th>2</th>\n",
       "      <td>MSFT</td>\n",
       "      <td>Microsoft Corporation</td>\n",
       "      <td>3.114843e+12</td>\n",
       "      <td>Technology</td>\n",
       "      <td>Software - Infrastructure</td>\n",
       "      <td>0.904</td>\n",
       "      <td>418.95</td>\n",
       "      <td>3.08</td>\n",
       "      <td>19826981.0</td>\n",
       "      <td>NASDAQ</td>\n",
       "      <td>NASDAQ Global Select</td>\n",
       "      <td>US</td>\n",
       "      <td>False</td>\n",
       "      <td>True</td>\n",
       "      <td>False</td>\n",
       "      <td>0.007352</td>\n",
       "    </tr>\n",
       "    <tr>\n",
       "      <th>3</th>\n",
       "      <td>GOOG</td>\n",
       "      <td>Alphabet Inc.</td>\n",
       "      <td>2.357015e+12</td>\n",
       "      <td>Communication Services</td>\n",
       "      <td>Internet Content &amp; Information</td>\n",
       "      <td>1.034</td>\n",
       "      <td>193.17</td>\n",
       "      <td>0.60</td>\n",
       "      <td>18566759.0</td>\n",
       "      <td>NASDAQ</td>\n",
       "      <td>NASDAQ Global Select</td>\n",
       "      <td>US</td>\n",
       "      <td>False</td>\n",
       "      <td>True</td>\n",
       "      <td>False</td>\n",
       "      <td>0.003106</td>\n",
       "    </tr>\n",
       "    <tr>\n",
       "      <th>4</th>\n",
       "      <td>GOOGL</td>\n",
       "      <td>Alphabet Inc.</td>\n",
       "      <td>2.357015e+12</td>\n",
       "      <td>Communication Services</td>\n",
       "      <td>Internet Content &amp; Information</td>\n",
       "      <td>1.034</td>\n",
       "      <td>192.04</td>\n",
       "      <td>0.60</td>\n",
       "      <td>25712962.0</td>\n",
       "      <td>NASDAQ</td>\n",
       "      <td>NASDAQ Global Select</td>\n",
       "      <td>US</td>\n",
       "      <td>False</td>\n",
       "      <td>True</td>\n",
       "      <td>False</td>\n",
       "      <td>0.003124</td>\n",
       "    </tr>\n",
       "  </tbody>\n",
       "</table>\n",
       "</div>"
      ],
      "text/plain": [
       "  symbol                   name    market_cap                  sector  \\\n",
       "0   AAPL             Apple Inc.  3.580177e+12              Technology   \n",
       "1   NVDA     NVIDIA Corporation  3.328436e+12              Technology   \n",
       "2   MSFT  Microsoft Corporation  3.114843e+12              Technology   \n",
       "3   GOOG          Alphabet Inc.  2.357015e+12  Communication Services   \n",
       "4  GOOGL          Alphabet Inc.  2.357015e+12  Communication Services   \n",
       "\n",
       "                         industry   beta   price  last_annual_dividend  \\\n",
       "0            Consumer Electronics  1.240  236.85                  0.99   \n",
       "1                  Semiconductors  1.657  135.91                  0.04   \n",
       "2       Software - Infrastructure  0.904  418.95                  3.08   \n",
       "3  Internet Content & Information  1.034  193.17                  0.60   \n",
       "4  Internet Content & Information  1.034  192.04                  0.60   \n",
       "\n",
       "        volume exchange         exchange_name country  is_etf  \\\n",
       "0   58293813.0   NASDAQ  NASDAQ Global Select      US   False   \n",
       "1  204822623.0   NASDAQ  NASDAQ Global Select      US   False   \n",
       "2   19826981.0   NASDAQ  NASDAQ Global Select      US   False   \n",
       "3   18566759.0   NASDAQ  NASDAQ Global Select      US   False   \n",
       "4   25712962.0   NASDAQ  NASDAQ Global Select      US   False   \n",
       "\n",
       "   actively_trading  isFund  dividend_yield  \n",
       "0              True   False        0.004180  \n",
       "1              True   False        0.000294  \n",
       "2              True   False        0.007352  \n",
       "3              True   False        0.003106  \n",
       "4              True   False        0.003124  "
      ]
     },
     "execution_count": 8,
     "metadata": {},
     "output_type": "execute_result"
    }
   ],
   "source": [
    "results[\"dividend_yield\"] = results[\"last_annual_dividend\"]/results[\"price\"]\n",
    "results.head()"
   ]
  },
  {
   "cell_type": "code",
   "execution_count": 9,
   "id": "4e7cab92",
   "metadata": {},
   "outputs": [],
   "source": [
    "security = \"TGT\""
   ]
  },
  {
   "cell_type": "code",
   "execution_count": 11,
   "id": "06c20d29",
   "metadata": {},
   "outputs": [
    {
     "data": {
      "text/plain": [
       "FMPBalanceSheetData(period_ending=2024-02-03, fiscal_period=FY, fiscal_year=2023, filing_date=2024-03-13, accepted_date=2024-03-13 17:04:51, reported_currency=USD, cash_and_cash_equivalents=3805000000.0, short_term_investments=None, cash_and_short_term_investments=3805000000.0, net_receivables=1404000000.0, inventory=11886000000.0, other_current_assets=403000000.0, total_current_assets=17498000000.0, plant_property_equipment_net=36458000000.0, goodwill=631000000.0, intangible_assets=8000000.0, goodwill_and_intangible_assets=639000000.0, long_term_investments=None, tax_assets=None, other_non_current_assets=761000000.0, non_current_assets=37858000000.0, other_assets=None, total_assets=55356000000.0, accounts_payable=12098000000.0, short_term_debt=1445000000.0, tax_payables=827000000.0, current_deferred_revenue=None, other_current_liabilities=4934000000.0, total_current_liabilities=19304000000.0, long_term_debt=16307000000.0, deferred_revenue_non_current=419000000.0, deferred_tax_liabilities_non_current=2480000000.0, other_non_current_liabilities=3414000000.0, total_non_current_liabilities=22620000000.0, other_liabilities=None, capital_lease_obligations=3608000000.0, total_liabilities=41924000000.0, preferred_stock=None, common_stock=38000000.0, retained_earnings=7093000000.0, accumulated_other_comprehensive_income=-460000000.0, other_shareholders_equity=None, other_total_shareholders_equity=6761000000.0, total_common_equity=13432000000.0, total_equity_non_controlling_interests=13432000000.0, total_liabilities_and_shareholders_equity=55356000000.0, minority_interest=None, total_liabilities_and_total_equity=55356000000.0, total_investments=3380000000.0, total_debt=19646000000.0, net_debt=15841000000.0, link=https://www.sec.gov/Archives/edgar/data/27419/000002741924000032/0000027419-24-000032-index.htm, final_link=https://www.sec.gov/Archives/edgar/data/27419/000002741924000032/tgt-20240203.htm)"
      ]
     },
     "execution_count": 11,
     "metadata": {},
     "output_type": "execute_result"
    }
   ],
   "source": [
    "# EPS = Net Income - Preferred Dividends / Weighted Average Common Shares\n",
    "\n",
    "appl_fundamentals = obb.equity.fundamental.balance(security, provider=\"fmp\", limit=3)\n",
    "appl_fundamentals.results[0]"
   ]
  },
  {
   "cell_type": "code",
   "execution_count": 25,
   "id": "a871e388",
   "metadata": {},
   "outputs": [
    {
     "data": {
      "text/html": [
       "<div>\n",
       "<style scoped>\n",
       "    .dataframe tbody tr th:only-of-type {\n",
       "        vertical-align: middle;\n",
       "    }\n",
       "\n",
       "    .dataframe tbody tr th {\n",
       "        vertical-align: top;\n",
       "    }\n",
       "\n",
       "    .dataframe thead th {\n",
       "        text-align: right;\n",
       "    }\n",
       "</style>\n",
       "<table border=\"1\" class=\"dataframe\">\n",
       "  <thead>\n",
       "    <tr style=\"text-align: right;\">\n",
       "      <th></th>\n",
       "      <th>period_ending</th>\n",
       "      <th>operating_revenue</th>\n",
       "      <th>total_revenue</th>\n",
       "      <th>cost_of_revenue</th>\n",
       "      <th>gross_profit</th>\n",
       "      <th>selling_general_and_admin_expense</th>\n",
       "      <th>depreciation_and_amortization_in_income_statement</th>\n",
       "      <th>depreciation_amortization_depletion_income_statement</th>\n",
       "      <th>operating_expense</th>\n",
       "      <th>operating_income</th>\n",
       "      <th>...</th>\n",
       "      <th>interest_expense</th>\n",
       "      <th>net_interest_income</th>\n",
       "      <th>ebit</th>\n",
       "      <th>ebitda</th>\n",
       "      <th>reconciled_cost_of_revenue</th>\n",
       "      <th>reconciled_depreciation</th>\n",
       "      <th>net_income_from_continuing_operation_net_minority_interest</th>\n",
       "      <th>normalized_ebitda</th>\n",
       "      <th>tax_rate_for_calcs</th>\n",
       "      <th>tax_effect_of_unusual_items</th>\n",
       "    </tr>\n",
       "  </thead>\n",
       "  <tbody>\n",
       "    <tr>\n",
       "      <th>0</th>\n",
       "      <td>2024-10-31</td>\n",
       "      <td>2.522800e+10</td>\n",
       "      <td>2.566800e+10</td>\n",
       "      <td>1.837500e+10</td>\n",
       "      <td>7.293000e+09</td>\n",
       "      <td>5.486000e+09</td>\n",
       "      <td>639000000.0</td>\n",
       "      <td>639000000.0</td>\n",
       "      <td>6.125000e+09</td>\n",
       "      <td>1.168000e+09</td>\n",
       "      <td>...</td>\n",
       "      <td>105000000.0</td>\n",
       "      <td>-105000000.0</td>\n",
       "      <td>1.196000e+09</td>\n",
       "      <td>1.950000e+09</td>\n",
       "      <td>1.826000e+10</td>\n",
       "      <td>754000000.0</td>\n",
       "      <td>854000000.0</td>\n",
       "      <td>1.950000e+09</td>\n",
       "      <td>0.217</td>\n",
       "      <td>0.0</td>\n",
       "    </tr>\n",
       "  </tbody>\n",
       "</table>\n",
       "<p>1 rows × 39 columns</p>\n",
       "</div>"
      ],
      "text/plain": [
       "  period_ending  operating_revenue  total_revenue  cost_of_revenue  \\\n",
       "0    2024-10-31       2.522800e+10   2.566800e+10     1.837500e+10   \n",
       "\n",
       "   gross_profit  selling_general_and_admin_expense  \\\n",
       "0  7.293000e+09                       5.486000e+09   \n",
       "\n",
       "   depreciation_and_amortization_in_income_statement  \\\n",
       "0                                        639000000.0   \n",
       "\n",
       "   depreciation_amortization_depletion_income_statement  operating_expense  \\\n",
       "0                                        639000000.0          6.125000e+09   \n",
       "\n",
       "   operating_income  ...  interest_expense  net_interest_income          ebit  \\\n",
       "0      1.168000e+09  ...       105000000.0         -105000000.0  1.196000e+09   \n",
       "\n",
       "         ebitda  reconciled_cost_of_revenue  reconciled_depreciation  \\\n",
       "0  1.950000e+09                1.826000e+10              754000000.0   \n",
       "\n",
       "   net_income_from_continuing_operation_net_minority_interest  \\\n",
       "0                                        854000000.0            \n",
       "\n",
       "   normalized_ebitda  tax_rate_for_calcs  tax_effect_of_unusual_items  \n",
       "0       1.950000e+09               0.217                          0.0  \n",
       "\n",
       "[1 rows x 39 columns]"
      ]
     },
     "execution_count": 25,
     "metadata": {},
     "output_type": "execute_result"
    }
   ],
   "source": [
    "fundamental_data = obb.equity.fundamental.income( security, provider=\"yfinance\", limit=1, period=\"quarter\" ).to_df()\n",
    "fundamental_data"
   ]
  },
  {
   "cell_type": "code",
   "execution_count": 27,
   "id": "61255b35",
   "metadata": {},
   "outputs": [
    {
     "ename": "OpenBBError",
     "evalue": "\n[Error] -> 1 validations error(s)\n[Arg] 1 -> input: 0        AAPL\n1        NVDA\n2        MSFT\n3        GOOG\n4       GOOGL\n        ...  \n4149    FMOXX\n4150    FLGXX\n4151    FDRXX\n4152    FDLXX\n4153    BFRGW\nName: symbol, Length: 4154, dtype: object -> Input should be a valid string",
     "output_type": "error",
     "traceback": [
      "\u001b[0;31m---------------------------------------------------------------------------\u001b[0m",
      "\u001b[0;31mOpenBBError\u001b[0m                               Traceback (most recent call last)",
      "Cell \u001b[0;32mIn[27], line 1\u001b[0m\n\u001b[0;32m----> 1\u001b[0m results[\u001b[38;5;124m\"\u001b[39m\u001b[38;5;124mtotal_revenue\u001b[39m\u001b[38;5;124m\"\u001b[39m] \u001b[38;5;241m=\u001b[39m \u001b[43mobb\u001b[49m\u001b[38;5;241;43m.\u001b[39;49m\u001b[43mequity\u001b[49m\u001b[38;5;241;43m.\u001b[39;49m\u001b[43mfundamental\u001b[49m\u001b[38;5;241;43m.\u001b[39;49m\u001b[43mbalance\u001b[49m\u001b[43m(\u001b[49m\u001b[43mresults\u001b[49m\u001b[43m[\u001b[49m\u001b[38;5;124;43m'\u001b[39;49m\u001b[38;5;124;43msymbol\u001b[39;49m\u001b[38;5;124;43m'\u001b[39;49m\u001b[43m]\u001b[49m\u001b[43m,\u001b[49m\u001b[43m \u001b[49m\u001b[43mprovider\u001b[49m\u001b[38;5;241;43m=\u001b[39;49m\u001b[38;5;124;43m\"\u001b[39;49m\u001b[38;5;124;43myfinance\u001b[39;49m\u001b[38;5;124;43m\"\u001b[39;49m\u001b[43m,\u001b[49m\u001b[43m \u001b[49m\u001b[43mlimit\u001b[49m\u001b[38;5;241;43m=\u001b[39;49m\u001b[38;5;241;43m1\u001b[39;49m\u001b[43m,\u001b[49m\u001b[43m \u001b[49m\u001b[43mperiod\u001b[49m\u001b[38;5;241;43m=\u001b[39;49m\u001b[38;5;124;43m\"\u001b[39;49m\u001b[38;5;124;43mquarter\u001b[39;49m\u001b[38;5;124;43m\"\u001b[39;49m\u001b[43m)\u001b[49m\u001b[38;5;241m.\u001b[39mto_df()[\u001b[38;5;124m'\u001b[39m\u001b[38;5;124mtotal_revenue\u001b[39m\u001b[38;5;124m'\u001b[39m]\n",
      "File \u001b[0;32m~/Projects/ai/research/.devenv/state/venv/lib/python3.12/site-packages/openbb_core/app/static/utils/decorators.py:89\u001b[0m, in \u001b[0;36mexception_handler.<locals>.wrapper\u001b[0;34m(*f_args, **f_kwargs)\u001b[0m\n\u001b[1;32m     87\u001b[0m     error_list\u001b[38;5;241m.\u001b[39minsert(\u001b[38;5;241m0\u001b[39m, validation_error)\n\u001b[1;32m     88\u001b[0m     error_str \u001b[38;5;241m=\u001b[39m \u001b[38;5;124m\"\u001b[39m\u001b[38;5;130;01m\\n\u001b[39;00m\u001b[38;5;124m\"\u001b[39m\u001b[38;5;241m.\u001b[39mjoin(error_list)\n\u001b[0;32m---> 89\u001b[0m     \u001b[38;5;28;01mraise\u001b[39;00m OpenBBError(\u001b[38;5;124mf\u001b[39m\u001b[38;5;124m\"\u001b[39m\u001b[38;5;130;01m\\n\u001b[39;00m\u001b[38;5;124m[Error] -> \u001b[39m\u001b[38;5;132;01m{\u001b[39;00merror_str\u001b[38;5;132;01m}\u001b[39;00m\u001b[38;5;124m\"\u001b[39m)\u001b[38;5;241m.\u001b[39mwith_traceback(\n\u001b[1;32m     90\u001b[0m         tb\n\u001b[1;32m     91\u001b[0m     ) \u001b[38;5;28;01mfrom\u001b[39;00m \u001b[38;5;28;01mNone\u001b[39;00m\n\u001b[1;32m     92\u001b[0m \u001b[38;5;28;01mif\u001b[39;00m \u001b[38;5;28misinstance\u001b[39m(e, UnauthorizedError):\n\u001b[1;32m     93\u001b[0m     \u001b[38;5;28;01mraise\u001b[39;00m UnauthorizedError(\u001b[38;5;124mf\u001b[39m\u001b[38;5;124m\"\u001b[39m\u001b[38;5;130;01m\\n\u001b[39;00m\u001b[38;5;124m[Error] -> \u001b[39m\u001b[38;5;132;01m{\u001b[39;00me\u001b[38;5;132;01m}\u001b[39;00m\u001b[38;5;124m\"\u001b[39m)\u001b[38;5;241m.\u001b[39mwith_traceback(\n\u001b[1;32m     94\u001b[0m         tb\n\u001b[1;32m     95\u001b[0m     ) \u001b[38;5;28;01mfrom\u001b[39;00m \u001b[38;5;28;01mNone\u001b[39;00m\n",
      "File \u001b[0;32m~/Projects/ai/research/.devenv/state/venv/lib/python3.12/site-packages/pydantic/_internal/_validate_call.py:111\u001b[0m, in \u001b[0;36mValidateCallWrapper.__call__\u001b[0;34m(self, *args, **kwargs)\u001b[0m\n\u001b[1;32m    110\u001b[0m \u001b[38;5;28;01mdef\u001b[39;00m \u001b[38;5;21m__call__\u001b[39m(\u001b[38;5;28mself\u001b[39m, \u001b[38;5;241m*\u001b[39margs: Any, \u001b[38;5;241m*\u001b[39m\u001b[38;5;241m*\u001b[39mkwargs: Any) \u001b[38;5;241m-\u001b[39m\u001b[38;5;241m>\u001b[39m Any:\n\u001b[0;32m--> 111\u001b[0m     res \u001b[38;5;241m=\u001b[39m \u001b[38;5;28;43mself\u001b[39;49m\u001b[38;5;241;43m.\u001b[39;49m\u001b[43m__pydantic_validator__\u001b[49m\u001b[38;5;241;43m.\u001b[39;49m\u001b[43mvalidate_python\u001b[49m\u001b[43m(\u001b[49m\u001b[43mpydantic_core\u001b[49m\u001b[38;5;241;43m.\u001b[39;49m\u001b[43mArgsKwargs\u001b[49m\u001b[43m(\u001b[49m\u001b[43margs\u001b[49m\u001b[43m,\u001b[49m\u001b[43m \u001b[49m\u001b[43mkwargs\u001b[49m\u001b[43m)\u001b[49m\u001b[43m)\u001b[49m\n\u001b[1;32m    112\u001b[0m     \u001b[38;5;28;01mif\u001b[39;00m \u001b[38;5;28mself\u001b[39m\u001b[38;5;241m.\u001b[39m__return_pydantic_validator__:\n\u001b[1;32m    113\u001b[0m         \u001b[38;5;28;01mreturn\u001b[39;00m \u001b[38;5;28mself\u001b[39m\u001b[38;5;241m.\u001b[39m__return_pydantic_validator__(res)\n",
      "\u001b[0;31mOpenBBError\u001b[0m: \n[Error] -> 1 validations error(s)\n[Arg] 1 -> input: 0        AAPL\n1        NVDA\n2        MSFT\n3        GOOG\n4       GOOGL\n        ...  \n4149    FMOXX\n4150    FLGXX\n4151    FDRXX\n4152    FDLXX\n4153    BFRGW\nName: symbol, Length: 4154, dtype: object -> Input should be a valid string"
     ]
    }
   ],
   "source": [
    "results[\"total_revenue\"] = obb.equity.fundamental.balance(results['symbol'], provider=\"yfinance\", limit=1, period=\"quarter\").to_df()['total_revenue']"
   ]
  },
  {
   "cell_type": "code",
   "execution_count": 21,
   "id": "5cbae83c",
   "metadata": {},
   "outputs": [
    {
     "ename": "KeyError",
     "evalue": "0",
     "output_type": "error",
     "traceback": [
      "\u001b[0;31m---------------------------------------------------------------------------\u001b[0m",
      "\u001b[0;31mKeyError\u001b[0m                                  Traceback (most recent call last)",
      "File \u001b[0;32m~/Projects/ai/research/.devenv/state/venv/lib/python3.12/site-packages/pandas/core/indexes/base.py:3805\u001b[0m, in \u001b[0;36mIndex.get_loc\u001b[0;34m(self, key)\u001b[0m\n\u001b[1;32m   3804\u001b[0m \u001b[38;5;28;01mtry\u001b[39;00m:\n\u001b[0;32m-> 3805\u001b[0m     \u001b[38;5;28;01mreturn\u001b[39;00m \u001b[38;5;28;43mself\u001b[39;49m\u001b[38;5;241;43m.\u001b[39;49m\u001b[43m_engine\u001b[49m\u001b[38;5;241;43m.\u001b[39;49m\u001b[43mget_loc\u001b[49m\u001b[43m(\u001b[49m\u001b[43mcasted_key\u001b[49m\u001b[43m)\u001b[49m\n\u001b[1;32m   3806\u001b[0m \u001b[38;5;28;01mexcept\u001b[39;00m \u001b[38;5;167;01mKeyError\u001b[39;00m \u001b[38;5;28;01mas\u001b[39;00m err:\n",
      "File \u001b[0;32mindex.pyx:167\u001b[0m, in \u001b[0;36mpandas._libs.index.IndexEngine.get_loc\u001b[0;34m()\u001b[0m\n",
      "File \u001b[0;32mindex.pyx:196\u001b[0m, in \u001b[0;36mpandas._libs.index.IndexEngine.get_loc\u001b[0;34m()\u001b[0m\n",
      "File \u001b[0;32mpandas/_libs/hashtable_class_helper.pxi:7081\u001b[0m, in \u001b[0;36mpandas._libs.hashtable.PyObjectHashTable.get_item\u001b[0;34m()\u001b[0m\n",
      "File \u001b[0;32mpandas/_libs/hashtable_class_helper.pxi:7089\u001b[0m, in \u001b[0;36mpandas._libs.hashtable.PyObjectHashTable.get_item\u001b[0;34m()\u001b[0m\n",
      "\u001b[0;31mKeyError\u001b[0m: 0",
      "\nThe above exception was the direct cause of the following exception:\n",
      "\u001b[0;31mKeyError\u001b[0m                                  Traceback (most recent call last)",
      "Cell \u001b[0;32mIn[21], line 2\u001b[0m\n\u001b[1;32m      1\u001b[0m \u001b[38;5;66;03m# Weighted Average Shares Outstanding\u001b[39;00m\n\u001b[0;32m----> 2\u001b[0m results[\u001b[38;5;124m'\u001b[39m\u001b[38;5;124mincome\u001b[39m\u001b[38;5;124m'\u001b[39m] \u001b[38;5;241m=\u001b[39m \u001b[43mobb\u001b[49m\u001b[38;5;241;43m.\u001b[39;49m\u001b[43mequity\u001b[49m\u001b[38;5;241;43m.\u001b[39;49m\u001b[43mfundamental\u001b[49m\u001b[38;5;241;43m.\u001b[39;49m\u001b[43mincome\u001b[49m\u001b[43m(\u001b[49m\u001b[43m \u001b[49m\u001b[43msecurity\u001b[49m\u001b[43m,\u001b[49m\u001b[43m \u001b[49m\u001b[43mprovider\u001b[49m\u001b[38;5;241;43m=\u001b[39;49m\u001b[38;5;124;43m\"\u001b[39;49m\u001b[38;5;124;43myfinance\u001b[39;49m\u001b[38;5;124;43m\"\u001b[39;49m\u001b[43m,\u001b[49m\u001b[43m \u001b[49m\u001b[43mlimit\u001b[49m\u001b[38;5;241;43m=\u001b[39;49m\u001b[38;5;241;43m5\u001b[39;49m\u001b[43m,\u001b[49m\u001b[43m \u001b[49m\u001b[43mperiod\u001b[49m\u001b[38;5;241;43m=\u001b[39;49m\u001b[38;5;124;43m\"\u001b[39;49m\u001b[38;5;124;43mquarter\u001b[39;49m\u001b[38;5;124;43m\"\u001b[39;49m\u001b[43m \u001b[49m\u001b[43m)\u001b[49m\u001b[38;5;241;43m.\u001b[39;49m\u001b[43mto_df\u001b[49m\u001b[43m(\u001b[49m\u001b[43m)\u001b[49m\u001b[43m[\u001b[49m\u001b[38;5;241;43m0\u001b[39;49m\u001b[43m]\u001b[49m\n\u001b[1;32m      3\u001b[0m \u001b[38;5;66;03m# results['outstanding_shares'] = obb.equity.fundamental.income( results['symbol'], provider=\"yfinance\", limit=5, period=\"quarter\").to_df()[\"weighted_average_basic_shares_outstanding\"]\u001b[39;00m\n\u001b[1;32m      4\u001b[0m \u001b[38;5;66;03m# results['eps'] = results['income'] / results['outstanding_shares']\u001b[39;00m\n\u001b[1;32m      5\u001b[0m \u001b[38;5;66;03m# results[\"eps\"] = obb.equity.fundamental.income(results['symbol'], provider=\"yfinance\", limit=5, period=\"quarter\").to_df()['weighted_average_basic_shares_outstanding'][0] / \\\u001b[39;00m\n\u001b[1;32m      6\u001b[0m  \u001b[38;5;66;03m#  obb.equity.fundamental.income(results['symbol'], provider=\"yfinance\", limit=5, period=\"quarter\").to_df()['weighted_average_basic_shares_outstanding']\u001b[39;00m\n\u001b[1;32m      7\u001b[0m \u001b[38;5;66;03m# display(shares.head(1))\u001b[39;00m\n\u001b[1;32m      8\u001b[0m \u001b[38;5;66;03m# display(shares.tail(1))\u001b[39;00m\n",
      "File \u001b[0;32m~/Projects/ai/research/.devenv/state/venv/lib/python3.12/site-packages/pandas/core/frame.py:4102\u001b[0m, in \u001b[0;36mDataFrame.__getitem__\u001b[0;34m(self, key)\u001b[0m\n\u001b[1;32m   4100\u001b[0m \u001b[38;5;28;01mif\u001b[39;00m \u001b[38;5;28mself\u001b[39m\u001b[38;5;241m.\u001b[39mcolumns\u001b[38;5;241m.\u001b[39mnlevels \u001b[38;5;241m>\u001b[39m \u001b[38;5;241m1\u001b[39m:\n\u001b[1;32m   4101\u001b[0m     \u001b[38;5;28;01mreturn\u001b[39;00m \u001b[38;5;28mself\u001b[39m\u001b[38;5;241m.\u001b[39m_getitem_multilevel(key)\n\u001b[0;32m-> 4102\u001b[0m indexer \u001b[38;5;241m=\u001b[39m \u001b[38;5;28;43mself\u001b[39;49m\u001b[38;5;241;43m.\u001b[39;49m\u001b[43mcolumns\u001b[49m\u001b[38;5;241;43m.\u001b[39;49m\u001b[43mget_loc\u001b[49m\u001b[43m(\u001b[49m\u001b[43mkey\u001b[49m\u001b[43m)\u001b[49m\n\u001b[1;32m   4103\u001b[0m \u001b[38;5;28;01mif\u001b[39;00m is_integer(indexer):\n\u001b[1;32m   4104\u001b[0m     indexer \u001b[38;5;241m=\u001b[39m [indexer]\n",
      "File \u001b[0;32m~/Projects/ai/research/.devenv/state/venv/lib/python3.12/site-packages/pandas/core/indexes/base.py:3812\u001b[0m, in \u001b[0;36mIndex.get_loc\u001b[0;34m(self, key)\u001b[0m\n\u001b[1;32m   3807\u001b[0m     \u001b[38;5;28;01mif\u001b[39;00m \u001b[38;5;28misinstance\u001b[39m(casted_key, \u001b[38;5;28mslice\u001b[39m) \u001b[38;5;129;01mor\u001b[39;00m (\n\u001b[1;32m   3808\u001b[0m         \u001b[38;5;28misinstance\u001b[39m(casted_key, abc\u001b[38;5;241m.\u001b[39mIterable)\n\u001b[1;32m   3809\u001b[0m         \u001b[38;5;129;01mand\u001b[39;00m \u001b[38;5;28many\u001b[39m(\u001b[38;5;28misinstance\u001b[39m(x, \u001b[38;5;28mslice\u001b[39m) \u001b[38;5;28;01mfor\u001b[39;00m x \u001b[38;5;129;01min\u001b[39;00m casted_key)\n\u001b[1;32m   3810\u001b[0m     ):\n\u001b[1;32m   3811\u001b[0m         \u001b[38;5;28;01mraise\u001b[39;00m InvalidIndexError(key)\n\u001b[0;32m-> 3812\u001b[0m     \u001b[38;5;28;01mraise\u001b[39;00m \u001b[38;5;167;01mKeyError\u001b[39;00m(key) \u001b[38;5;28;01mfrom\u001b[39;00m \u001b[38;5;21;01merr\u001b[39;00m\n\u001b[1;32m   3813\u001b[0m \u001b[38;5;28;01mexcept\u001b[39;00m \u001b[38;5;167;01mTypeError\u001b[39;00m:\n\u001b[1;32m   3814\u001b[0m     \u001b[38;5;66;03m# If we have a listlike key, _check_indexing_error will raise\u001b[39;00m\n\u001b[1;32m   3815\u001b[0m     \u001b[38;5;66;03m#  InvalidIndexError. Otherwise we fall through and re-raise\u001b[39;00m\n\u001b[1;32m   3816\u001b[0m     \u001b[38;5;66;03m#  the TypeError.\u001b[39;00m\n\u001b[1;32m   3817\u001b[0m     \u001b[38;5;28mself\u001b[39m\u001b[38;5;241m.\u001b[39m_check_indexing_error(key)\n",
      "\u001b[0;31mKeyError\u001b[0m: 0"
     ]
    }
   ],
   "source": [
    "# Weighted Average Shares Outstanding\n",
    "data = obb.equity.fundamental.income( security, provider=\"yfinance\", limit=5, period=\"quarter\" ).to_df()\n",
    "shares = data[\"weighted_average_basic_shares_outstanding\"]\n",
    "results[\"eps\"] = obb.equity.fundamental.income(results['symbol'], provider=\"yfinance\", limit=5, period=\"quarter\").to_df()['weighted_average_basic_shares_outstanding'][0] / obb.equity.fundamental.income(results['symbol'], provider=\"yfinance\", limit=5, period=\"quarter\")['weighted_average_basic_shares_outstanding']\n",
    "display(shares.head(1))\n",
    "\n",
    "display(shares.tail(1))"
   ]
  },
  {
   "cell_type": "code",
   "execution_count": null,
   "id": "9269b45f",
   "metadata": {},
   "outputs": [],
   "source": []
  }
 ],
 "metadata": {
  "kernelspec": {
   "display_name": "venv",
   "language": "python",
   "name": "python3"
  },
  "language_info": {
   "codemirror_mode": {
    "name": "ipython",
    "version": 3
   },
   "file_extension": ".py",
   "mimetype": "text/x-python",
   "name": "python",
   "nbconvert_exporter": "python",
   "pygments_lexer": "ipython3",
   "version": "3.12.8"
  }
 },
 "nbformat": 4,
 "nbformat_minor": 5
}
