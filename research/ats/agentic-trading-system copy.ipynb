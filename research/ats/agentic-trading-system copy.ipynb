{
 "cells": [
  {
   "cell_type": "markdown",
   "id": "2f1b3ed09ae2ed0e",
   "metadata": {},
   "source": [
    "# Setup"
   ]
  },
  {
   "cell_type": "markdown",
   "id": "0cc28061",
   "metadata": {},
   "source": [
    "Original Reference: https://colab.research.google.com/gist/virattt/251cfea5e66b21c7b6a58b8952476117/hedge-fund-trading-team.ipynb#scrollTo=ro6_juA_nHl-"
   ]
  },
  {
   "cell_type": "code",
   "execution_count": 1,
   "id": "f6f940776f281ed1",
   "metadata": {
    "ExecuteTime": {
     "end_time": "2024-12-03T22:08:00.837534Z",
     "start_time": "2024-12-03T22:08:00.834292Z"
    }
   },
   "outputs": [],
   "source": [
    "import getpass\n",
    "from dotenv import load_dotenv\n",
    "import pandas as pd\n",
    "import requests\n",
    "import os\n",
    "from datetime import timedelta\n",
    "import matplotlib.pyplot as plt\n",
    "\n",
    "# Import your agent's dependencies\n",
    "from langchain_openai.chat_models import ChatOpenAI\n",
    "from langchain_core.messages import HumanMessage\n",
    "from langgraph.graph import END, MessagesState, StateGraph, START\n",
    "from langchain_core.prompts import ChatPromptTemplate, MessagesPlaceholder\n"
   ]
  },
  {
   "cell_type": "code",
   "execution_count": 2,
   "id": "7f28880b831ec87a",
   "metadata": {
    "ExecuteTime": {
     "end_time": "2024-12-03T22:08:00.862009Z",
     "start_time": "2024-12-03T22:08:00.856761Z"
    }
   },
   "outputs": [],
   "source": [
    "load_dotenv()\n",
    "\n",
    "def _set_if_undefined(var: str):\n",
    "    if not os.environ.get(var):\n",
    "        os.environ[var] = getpass.getpass(f\"Please provide your {var}\")\n",
    "\n",
    "_set_if_undefined(\"OPENAI_API_KEY\")               # For calling LLM. Get from https://platform.openai.com/\n",
    "_set_if_undefined(\"FINANCIAL_DATASETS_API_KEY\")   # For getting financial data. Get from https://financialdatasets.ai"
   ]
  },
  {
   "cell_type": "code",
   "execution_count": 3,
   "id": "5d4d1c3805820605",
   "metadata": {
    "ExecuteTime": {
     "end_time": "2024-12-03T22:08:00.911024Z",
     "start_time": "2024-12-03T22:08:00.873150Z"
    }
   },
   "outputs": [],
   "source": [
    "# We use GPT-4o, but you can use any LLM\n",
    "llm = ChatOpenAI(model=\"gpt-4o\")"
   ]
  },
  {
   "cell_type": "markdown",
   "id": "277da4a6ac3f06e5",
   "metadata": {},
   "source": [
    "# Create Market Data Agent"
   ]
  },
  {
   "cell_type": "code",
   "execution_count": 4,
   "id": "ca795e043c509497",
   "metadata": {
    "ExecuteTime": {
     "end_time": "2024-12-03T22:08:00.917578Z",
     "start_time": "2024-12-03T22:08:00.914793Z"
    }
   },
   "outputs": [],
   "source": [
    "def market_data_agent(state: MessagesState):\n",
    "    \"\"\"Responsible for gathering and preprocessing market data\"\"\"\n",
    "    messages = state[\"messages\"]\n",
    "    params = messages[-1].additional_kwargs\n",
    "\n",
    "    # Get the historical price data\n",
    "    historical_data = get_price_data(\n",
    "        params[\"ticker\"], params[\"start_date\"], params[\"end_date\"]\n",
    "    )\n",
    "\n",
    "    # Calculate the trading signals\n",
    "    signals = calculate_trading_signals(historical_data)\n",
    "\n",
    "    # Create the market data agent's message using the signals and historical data\n",
    "    message = HumanMessage(\n",
    "        content=f\"\"\"\n",
    "        Here are the trading signals for {params[\"ticker\"]}:\n",
    "        Current Price: ${signals['current_price']:.2f}\n",
    "        SMA 5: {signals['sma_5_curr']:.2f}\n",
    "        SMA 5 Previous: {signals['sma_5_prev']:.2f}\n",
    "        SMA 20: {signals['sma_20_curr']:.2f}\n",
    "        SMA 20 Previous: {signals['sma_20_prev']:.2f}\n",
    "        \"\"\",\n",
    "        name=\"market_data_agent\",\n",
    "    )\n",
    "\n",
    "    return {\"messages\": messages + [message]}"
   ]
  },
  {
   "cell_type": "markdown",
   "id": "611a377ef883a8e6",
   "metadata": {},
   "source": [
    "# Create Quant Agent"
   ]
  },
  {
   "cell_type": "code",
   "execution_count": 5,
   "id": "cd605b26a94425e3",
   "metadata": {
    "ExecuteTime": {
     "end_time": "2024-12-03T22:08:00.926084Z",
     "start_time": "2024-12-03T22:08:00.923453Z"
    }
   },
   "outputs": [],
   "source": [
    "def quant_agent(state: MessagesState):\n",
    "    \"\"\"Analyzes technical indicators and generates trading signals\"\"\"\n",
    "    last_message = state[\"messages\"][-1]\n",
    "\n",
    "    summary_prompt = ChatPromptTemplate.from_messages(\n",
    "        [\n",
    "            (\n",
    "                \"system\",\n",
    "                \"\"\"You are a hedge fund quant / technical analyst.\n",
    "                You are given trading signals for a stock.\n",
    "                Analyze the signals and provide a recommendation.\n",
    "                - signal: bullish | bearish | neutral,\n",
    "                - confidence: <float between 0 and 1>\n",
    "                \"\"\"\n",
    "            ),\n",
    "            MessagesPlaceholder(variable_name=\"messages\"),\n",
    "            (\n",
    "                \"human\",\n",
    "                f\"\"\"Based on the trading signals below, analyze the data and provide your assessment.\n",
    "\n",
    "                Trading Analysis: {last_message.content}\n",
    "\n",
    "                Only include your trading signal and confidence in the output.\n",
    "                \"\"\"\n",
    "            ),\n",
    "        ]\n",
    "    )\n",
    "\n",
    "    chain = summary_prompt | llm\n",
    "\n",
    "    result = chain.invoke(state).content\n",
    "    message = HumanMessage(\n",
    "        content=f\"Here is the trading analysis and my recommendation:{result}\",\n",
    "        name=\"quant_agent\",\n",
    "    )\n",
    "\n",
    "    return {\"messages\": state[\"messages\"] + [message]}"
   ]
  },
  {
   "cell_type": "markdown",
   "id": "d810c420d30e6e51",
   "metadata": {},
   "source": [
    "# Create Risk Management Agent"
   ]
  },
  {
   "cell_type": "code",
   "execution_count": 6,
   "id": "960288422ff08f9b",
   "metadata": {
    "ExecuteTime": {
     "end_time": "2024-12-03T22:08:00.934875Z",
     "start_time": "2024-12-03T22:08:00.931848Z"
    }
   },
   "outputs": [],
   "source": [
    "def risk_management_agent(state: MessagesState):\n",
    "    \"\"\"Evaluates portfolio risk and sets position limits\"\"\"\n",
    "    portfolio = state[\"messages\"][0].additional_kwargs[\"portfolio\"]\n",
    "    last_message = state[\"messages\"][-1]\n",
    "\n",
    "    risk_prompt = ChatPromptTemplate.from_messages(\n",
    "        [\n",
    "            (\n",
    "                \"system\",\n",
    "                \"\"\"You are a risk management specialist.\n",
    "                Your job is to take a look at the trading analysis and\n",
    "                evaluate portfolio exposure and recommend position sizing.\n",
    "                Provide the following in your output (not as a JSON):\n",
    "                - max_position_size: <float greater than 0>,\n",
    "                - risk_score: <integer between 1 and 10>\"\"\"\n",
    "            ),\n",
    "            MessagesPlaceholder(variable_name=\"messages\"),\n",
    "            (\n",
    "                \"human\",\n",
    "                f\"\"\"Based on the trading analysis below, provide your risk assessment.\n",
    "\n",
    "                Trading Analysis: {last_message.content}\n",
    "\n",
    "                Here is the current portfolio:\n",
    "                Portfolio:\n",
    "                Cash: ${portfolio['cash']:.2f}\n",
    "                Current Position: {portfolio['stock']} shares\n",
    "\n",
    "                Only include the max position size and risk score in your output.\n",
    "                \"\"\"\n",
    "            ),\n",
    "        ]\n",
    "    )\n",
    "    chain = risk_prompt | llm\n",
    "    result = chain.invoke(state).content\n",
    "    message = HumanMessage(\n",
    "        content=f\"Here is the risk management recommendation: {result}\",\n",
    "        name=\"risk_management\",\n",
    "    )\n",
    "    return {\"messages\": state[\"messages\"] + [message]}"
   ]
  },
  {
   "cell_type": "markdown",
   "id": "ab0d5e8fc1ec3d09",
   "metadata": {},
   "source": [
    "# Create Portfolio Management Agent"
   ]
  },
  {
   "cell_type": "code",
   "execution_count": 7,
   "id": "e72ee065806dca95",
   "metadata": {
    "ExecuteTime": {
     "end_time": "2024-12-03T22:08:00.943970Z",
     "start_time": "2024-12-03T22:08:00.940900Z"
    }
   },
   "outputs": [],
   "source": [
    "def portfolio_management_agent(state: MessagesState):\n",
    "    \"\"\"Makes final trading decisions and generates orders\"\"\"\n",
    "    portfolio = state[\"messages\"][0].additional_kwargs[\"portfolio\"]\n",
    "    last_message = state[\"messages\"][-1]\n",
    "\n",
    "    portfolio_prompt = ChatPromptTemplate.from_messages(\n",
    "        [\n",
    "            (\n",
    "                \"system\",\n",
    "                \"\"\"You are a portfolio manager making final trading decisions.\n",
    "                Your job is to make a trading decision based on the risk management data.\n",
    "                Provide the following in your output:\n",
    "                - \"action\": \"buy\" | \"sell\" | \"hold\",\n",
    "                - \"quantity\": <positive integer>\n",
    "                Only buy if you have available cash.\n",
    "                The quantity that you buy must be less than or equal to the max position size.\n",
    "                Only sell if you have shares in the portfolio to sell.\n",
    "                The quantity that you sell must be less than or equal to the current position.\"\"\"\n",
    "            ),\n",
    "            MessagesPlaceholder(variable_name=\"messages\"),\n",
    "            (\n",
    "                \"human\",\n",
    "                f\"\"\"Based on the risk management data below, make your trading decision.\n",
    "\n",
    "                Risk Management Data: {last_message.content}\n",
    "\n",
    "                Here is the current portfolio:\n",
    "                Portfolio:\n",
    "                Cash: ${portfolio['cash']:.2f}\n",
    "                Current Position: {portfolio['stock']} shares\n",
    "\n",
    "                Only include the action and quantity.\n",
    "\n",
    "                Remember, the action must be either buy, sell, or hold.\n",
    "                You can only buy if you have available cash.\n",
    "                You can only sell if you have shares in the portfolio to sell.\n",
    "                \"\"\"\n",
    "            ),\n",
    "        ]\n",
    "    )\n",
    "\n",
    "    chain = portfolio_prompt | llm\n",
    "    result = chain.invoke(state).content\n",
    "    return {\"messages\": [HumanMessage(content=result, name=\"portfolio_management\")]}"
   ]
  },
  {
   "cell_type": "markdown",
   "id": "e18d2024063fdf1e",
   "metadata": {},
   "source": [
    "# Create Agent Graph"
   ]
  },
  {
   "cell_type": "code",
   "execution_count": 8,
   "id": "8bb160ac6c6f3cf8",
   "metadata": {
    "ExecuteTime": {
     "end_time": "2024-12-03T22:08:00.953200Z",
     "start_time": "2024-12-03T22:08:00.949624Z"
    }
   },
   "outputs": [],
   "source": [
    "# Define the new workflow\n",
    "workflow = StateGraph(MessagesState)\n",
    "\n",
    "# Add nodes\n",
    "workflow.add_node(\"market_data_agent\", market_data_agent)\n",
    "workflow.add_node(\"quant_agent\", quant_agent)\n",
    "workflow.add_node(\"risk_management_agent\", risk_management_agent)\n",
    "workflow.add_node(\"portfolio_management_agent\", portfolio_management_agent)\n",
    "\n",
    "# Define the workflow\n",
    "workflow.add_edge(START, \"market_data_agent\")\n",
    "workflow.add_edge(\"market_data_agent\", \"quant_agent\")\n",
    "workflow.add_edge(\"quant_agent\", \"risk_management_agent\")\n",
    "workflow.add_edge(\"risk_management_agent\", \"portfolio_management_agent\")\n",
    "workflow.add_edge(\"portfolio_management_agent\", END)\n",
    "\n",
    "app = workflow.compile()"
   ]
  },
  {
   "cell_type": "code",
   "execution_count": 9,
   "id": "878e349bb1827c0a",
   "metadata": {
    "ExecuteTime": {
     "end_time": "2024-12-03T22:08:00.963197Z",
     "start_time": "2024-12-03T22:08:00.960726Z"
    }
   },
   "outputs": [],
   "source": [
    "# Update the run_agent function to include portfolio state\n",
    "def run_agent(ticker: str, start_date: str, end_date: str, portfolio: dict):\n",
    "    final_state = app.invoke(\n",
    "        {\n",
    "            \"messages\": [\n",
    "                HumanMessage(\n",
    "                    content=\"Make a trading decision based on the provided data.\",\n",
    "                    additional_kwargs={\n",
    "                        \"ticker\": ticker,\n",
    "                        \"start_date\": start_date,\n",
    "                        \"end_date\": end_date,\n",
    "                        \"portfolio\": portfolio\n",
    "                    },\n",
    "                )\n",
    "            ]\n",
    "        },\n",
    "        config={\"configurable\": {\"thread_id\": 42}},\n",
    "    )\n",
    "    return final_state[\"messages\"][-1].content"
   ]
  },
  {
   "cell_type": "markdown",
   "id": "7705340f1c01fab4",
   "metadata": {},
   "source": [
    "# Get Stock Price and Trading Signals"
   ]
  },
  {
   "cell_type": "code",
   "execution_count": 10,
   "id": "f523bd6b7aa44760",
   "metadata": {
    "ExecuteTime": {
     "end_time": "2024-12-03T22:08:00.976014Z",
     "start_time": "2024-12-03T22:08:00.973760Z"
    }
   },
   "outputs": [],
   "source": [
    "# Define a function to calculate trading signals\n",
    "def calculate_trading_signals(historical_data: pd.DataFrame) -> dict:\n",
    "    \"\"\"Calculate trading signals based on SMA crossover strategy\"\"\"\n",
    "    # Calculate SMAs\n",
    "    sma_5 = historical_data[\"close\"].rolling(window=5).mean()\n",
    "    sma_20 = historical_data[\"close\"].rolling(window=20).mean()\n",
    "\n",
    "    # Get the last two points of each SMA to check for crossover\n",
    "    sma_5_prev, sma_5_curr = sma_5.iloc[-2:]\n",
    "    sma_20_prev, sma_20_curr = sma_20.iloc[-2:]\n",
    "\n",
    "    return {\n",
    "        \"current_price\": historical_data[\"close\"].iloc[-1],\n",
    "        \"sma_5_curr\": sma_5_curr,\n",
    "        \"sma_5_prev\": sma_5_prev,\n",
    "        \"sma_20_curr\": sma_20_curr,\n",
    "        \"sma_20_prev\": sma_20_prev,\n",
    "    }"
   ]
  },
  {
   "cell_type": "code",
   "execution_count": 11,
   "id": "5a960d5ed770e00c",
   "metadata": {
    "ExecuteTime": {
     "end_time": "2024-12-03T22:08:00.982202Z",
     "start_time": "2024-12-03T22:08:00.979134Z"
    }
   },
   "outputs": [],
   "source": [
    "# Move the price data fetching function into the agent's scope\n",
    "def get_price_data(ticker, start_date, end_date):\n",
    "    # Add your API key to the headers\n",
    "    headers = {\"X-API-KEY\": os.environ.get(\"FINANCIAL_DATASETS_API_KEY\")}\n",
    "\n",
    "    # Create the URL\n",
    "    url = (\n",
    "        f\"https://api.financialdatasets.ai/prices/\"\n",
    "        f\"?ticker={ticker}\"\n",
    "        f\"&interval=day\"\n",
    "        f\"&interval_multiplier=1\"\n",
    "        f\"&start_date={start_date}\"\n",
    "        f\"&end_date={end_date}\"\n",
    "    )\n",
    "\n",
    "    # Make API request\n",
    "    response = requests.get(url, headers=headers)\n",
    "\n",
    "    # Check for successful response\n",
    "    if response.status_code != 200:\n",
    "        raise Exception(\n",
    "            f\"Error fetching data: {response.status_code} - {response.text}\"\n",
    "        )\n",
    "\n",
    "    # Parse prices from the response\n",
    "    data = response.json()\n",
    "    prices = data.get(\"prices\")\n",
    "    if not prices:\n",
    "        raise ValueError(\"No price data returned\")\n",
    "\n",
    "    # Convert prices to DataFrame\n",
    "    df = pd.DataFrame(prices)\n",
    "\n",
    "    # Convert 'time' to datetime and set as index\n",
    "    df[\"Date\"] = pd.to_datetime(df[\"time\"])\n",
    "    df.set_index(\"Date\", inplace=True)\n",
    "\n",
    "    # Ensure numeric data types\n",
    "    numeric_cols = [\"open\", \"close\", \"high\", \"low\", \"volume\"]\n",
    "    for col in numeric_cols:\n",
    "        df[col] = pd.to_numeric(df[col], errors=\"coerce\")\n",
    "\n",
    "    # Sort by date\n",
    "    df.sort_index(inplace=True)\n",
    "\n",
    "    return df"
   ]
  },
  {
   "cell_type": "markdown",
   "id": "51b4bb5b13cc86e7",
   "metadata": {},
   "source": [
    "# Create Backtester"
   ]
  },
  {
   "cell_type": "code",
   "execution_count": 12,
   "id": "89dab68ec4c272",
   "metadata": {
    "ExecuteTime": {
     "end_time": "2024-12-03T22:08:00.996792Z",
     "start_time": "2024-12-03T22:08:00.988392Z"
    }
   },
   "outputs": [],
   "source": [
    "class Backtester:\n",
    "    def __init__(self, agent, ticker, start_date, end_date, initial_capital):\n",
    "        self.agent = agent\n",
    "        self.ticker = ticker\n",
    "        self.start_date = start_date\n",
    "        self.end_date = end_date\n",
    "        self.initial_capital = initial_capital\n",
    "        self.portfolio = {\"cash\": initial_capital, \"stock\": 0}\n",
    "        self.portfolio_values = []\n",
    "\n",
    "    def parse_action(self, agent_output):\n",
    "        try:\n",
    "            # Expect JSON output from agent\n",
    "            import json\n",
    "            decision = json.loads('{' + agent_output + '}')\n",
    "            return decision[\"action\"], decision[\"quantity\"]\n",
    "        except:\n",
    "            return \"hold\", 0\n",
    "\n",
    "    def execute_trade(self, action, quantity, current_price):\n",
    "        \"\"\"Validate and execute trades based on portfolio constraints\"\"\"\n",
    "        if action == \"buy\" and quantity > 0:\n",
    "            cost = quantity * current_price\n",
    "            if cost <= self.portfolio[\"cash\"]:\n",
    "                self.portfolio[\"stock\"] += quantity\n",
    "                self.portfolio[\"cash\"] -= cost\n",
    "                return quantity\n",
    "            else:\n",
    "                # Calculate maximum affordable quantity\n",
    "                max_quantity = self.portfolio[\"cash\"] // current_price\n",
    "                if max_quantity > 0:\n",
    "                    self.portfolio[\"stock\"] += max_quantity\n",
    "                    self.portfolio[\"cash\"] -= max_quantity * current_price\n",
    "                    return max_quantity\n",
    "                return 0\n",
    "        elif action == \"sell\" and quantity > 0:\n",
    "            quantity = min(quantity, self.portfolio[\"stock\"])\n",
    "            if quantity > 0:\n",
    "                self.portfolio[\"cash\"] += quantity * current_price\n",
    "                self.portfolio[\"stock\"] -= quantity\n",
    "                return quantity\n",
    "            return 0\n",
    "        return 0\n",
    "\n",
    "    def run_backtest(self):\n",
    "        dates = pd.date_range(self.start_date, self.end_date, freq=\"B\")\n",
    "\n",
    "        print(\"\\nStarting backtest...\")\n",
    "        print(f\"{'Date':<12} {'Action':<6} {'Quantity':>8} {'Price':>8} {'Cash':>12} {'Stock':>8} {'Total Value':>12}\")\n",
    "        print(\"-\" * 70)\n",
    "\n",
    "        for current_date in dates:\n",
    "            lookback_start = (current_date - timedelta(days=30)).strftime(\"%Y-%m-%d\")\n",
    "            current_date_str = current_date.strftime(\"%Y-%m-%d\")\n",
    "\n",
    "            agent_output = self.agent(\n",
    "                ticker=self.ticker,\n",
    "                start_date=lookback_start,\n",
    "                end_date=current_date_str,\n",
    "                portfolio=self.portfolio\n",
    "            )\n",
    "\n",
    "            action, quantity = self.parse_action(agent_output)\n",
    "            df = get_price_data(self.ticker, lookback_start, current_date_str)\n",
    "            current_price = df.iloc[-1]['close']\n",
    "\n",
    "            # Execute the trade with validation\n",
    "            executed_quantity = self.execute_trade(action, quantity, current_price)\n",
    "\n",
    "            # Update total portfolio value\n",
    "            total_value = self.portfolio[\"cash\"] + self.portfolio[\"stock\"] * current_price\n",
    "            self.portfolio[\"portfolio_value\"] = total_value\n",
    "\n",
    "            # Log the current state with executed quantity\n",
    "            print(\n",
    "                f\"{current_date.strftime('%Y-%m-%d'):<12} {action:<6} {executed_quantity:>8} {current_price:>8.2f} \"\n",
    "                f\"{self.portfolio['cash']:>12.2f} {self.portfolio['stock']:>8} {total_value:>12.2f}\"\n",
    "            )\n",
    "\n",
    "            # Record the portfolio value\n",
    "            self.portfolio_values.append(\n",
    "                {\"Date\": current_date, \"Portfolio Value\": total_value}\n",
    "            )\n",
    "\n",
    "    def analyze_performance(self):\n",
    "        # Convert portfolio values to DataFrame\n",
    "        performance_df = pd.DataFrame(self.portfolio_values).set_index(\"Date\")\n",
    "\n",
    "        # Calculate total return\n",
    "        total_return = (\n",
    "                           self.portfolio[\"portfolio_value\"] - self.initial_capital\n",
    "                       ) / self.initial_capital\n",
    "        print(f\"Total Return: {total_return * 100:.2f}%\")\n",
    "\n",
    "        # Plot the portfolio value over time\n",
    "        performance_df[\"Portfolio Value\"].plot(\n",
    "            title=\"Portfolio Value Over Time\", figsize=(12, 6)\n",
    "        )\n",
    "        plt.ylabel(\"Portfolio Value ($)\")\n",
    "        plt.xlabel(\"Date\")\n",
    "        plt.show()\n",
    "\n",
    "        # Compute daily returns\n",
    "        performance_df[\"Daily Return\"] = performance_df[\"Portfolio Value\"].pct_change()\n",
    "\n",
    "        # Calculate Sharpe Ratio (assuming 252 trading days in a year)\n",
    "        mean_daily_return = performance_df[\"Daily Return\"].mean()\n",
    "        std_daily_return = performance_df[\"Daily Return\"].std()\n",
    "        sharpe_ratio = (mean_daily_return / std_daily_return) * (252 ** 0.5)\n",
    "        print(f\"Sharpe Ratio: {sharpe_ratio:.2f}\")\n",
    "\n",
    "        # Calculate Maximum Drawdown\n",
    "        rolling_max = performance_df[\"Portfolio Value\"].cummax()\n",
    "        drawdown = performance_df[\"Portfolio Value\"] / rolling_max - 1\n",
    "        max_drawdown = drawdown.min()\n",
    "        print(f\"Maximum Drawdown: {max_drawdown * 100:.2f}%\")\n",
    "\n",
    "        return performance_df"
   ]
  },
  {
   "cell_type": "markdown",
   "id": "18a6dab6a6e1c96e",
   "metadata": {},
   "source": [
    "# Run the Backtest"
   ]
  },
  {
   "cell_type": "code",
   "execution_count": 13,
   "id": "547c4d51a824b6e9",
   "metadata": {
    "ExecuteTime": {
     "end_time": "2024-12-03T22:08:05.601775Z",
     "start_time": "2024-12-03T22:08:01.002985Z"
    }
   },
   "outputs": [
    {
     "name": "stdout",
     "output_type": "stream",
     "text": [
      "\n",
      "Starting backtest...\n",
      "Date         Action Quantity    Price         Cash    Stock  Total Value\n",
      "----------------------------------------------------------------------\n",
      "2024-01-01   buy      2019.0    49.52        19.12   2019.0    100000.00\n",
      "2024-01-02   sell        519    48.17     25019.35   1500.0     97274.35\n",
      "2024-01-03   sell        500    47.57     48804.35   1000.0     96374.35\n",
      "2024-01-04   sell        500    48.00     72804.35    500.0     96804.35\n",
      "2024-01-05   hold          0    49.10     72804.35    500.0     97354.35\n",
      "2024-01-08   hold          0    52.25     72804.35    500.0     98929.35\n",
      "2024-01-09   buy         500    53.14     46234.35   1000.0     99374.35\n",
      "2024-01-10   buy         500    54.35     19059.35   1500.0    100584.35\n",
      "2024-01-11   buy       347.0    54.82        36.81   1847.0    101289.35\n",
      "2024-01-12   sell       1847    54.71    101086.18      0.0    101086.18\n",
      "2024-01-15   buy        1000    54.71     46376.18   1000.0    101086.18\n",
      "2024-01-16   buy         500    56.38     18186.18   1500.0    102756.18\n",
      "2024-01-17   buy       324.0    56.05        25.98   1824.0    102261.18\n",
      "2024-01-18   sell        324    57.11     18529.62   1500.0    104194.62\n",
      "2024-01-19   buy       311.0    59.49        28.23   1811.0    107764.62\n",
      "2024-01-22   sell        500    59.65     29853.23   1311.0    108054.38\n",
      "2024-01-23   sell        311    59.87     48472.80   1000.0    108342.80\n",
      "2024-01-24   hold          0    61.36     48472.80   1000.0    109832.80\n",
      "2024-01-25   buy         500    61.62     17662.80   1500.0    110092.80\n",
      "2024-01-26   buy       289.0    61.03        25.13   1789.0    109207.80\n",
      "2024-01-29   hold          0    62.47        25.13   1789.0    111783.96\n",
      "2024-01-30   hold          0    62.77        25.13   1789.0    112320.66\n",
      "2024-01-31   sell        500    61.53     30790.13   1289.0    110102.30\n"
     ]
    },
    {
     "ename": "KeyboardInterrupt",
     "evalue": "",
     "output_type": "error",
     "traceback": [
      "\u001b[0;31m---------------------------------------------------------------------------\u001b[0m",
      "\u001b[0;31mJSONDecodeError\u001b[0m                           Traceback (most recent call last)",
      "Cell \u001b[0;32mIn[12], line 15\u001b[0m, in \u001b[0;36mBacktester.parse_action\u001b[0;34m(self, agent_output)\u001b[0m\n\u001b[1;32m     14\u001b[0m \u001b[38;5;28;01mimport\u001b[39;00m \u001b[38;5;21;01mjson\u001b[39;00m\n\u001b[0;32m---> 15\u001b[0m decision \u001b[38;5;241m=\u001b[39m \u001b[43mjson\u001b[49m\u001b[38;5;241;43m.\u001b[39;49m\u001b[43mloads\u001b[49m\u001b[43m(\u001b[49m\u001b[38;5;124;43m'\u001b[39;49m\u001b[38;5;124;43m{\u001b[39;49m\u001b[38;5;124;43m'\u001b[39;49m\u001b[43m \u001b[49m\u001b[38;5;241;43m+\u001b[39;49m\u001b[43m \u001b[49m\u001b[43magent_output\u001b[49m\u001b[43m \u001b[49m\u001b[38;5;241;43m+\u001b[39;49m\u001b[43m \u001b[49m\u001b[38;5;124;43m'\u001b[39;49m\u001b[38;5;124;43m}\u001b[39;49m\u001b[38;5;124;43m'\u001b[39;49m\u001b[43m)\u001b[49m\n\u001b[1;32m     16\u001b[0m \u001b[38;5;28;01mreturn\u001b[39;00m decision[\u001b[38;5;124m\"\u001b[39m\u001b[38;5;124maction\u001b[39m\u001b[38;5;124m\"\u001b[39m], decision[\u001b[38;5;124m\"\u001b[39m\u001b[38;5;124mquantity\u001b[39m\u001b[38;5;124m\"\u001b[39m]\n",
      "File \u001b[0;32m/nix/store/7c494qcmh62av43zsxr3wvzh8hcpy1vl-python3-3.12.7/lib/python3.12/json/__init__.py:346\u001b[0m, in \u001b[0;36mloads\u001b[0;34m(s, cls, object_hook, parse_float, parse_int, parse_constant, object_pairs_hook, **kw)\u001b[0m\n\u001b[1;32m    343\u001b[0m \u001b[38;5;28;01mif\u001b[39;00m (\u001b[38;5;28mcls\u001b[39m \u001b[38;5;129;01mis\u001b[39;00m \u001b[38;5;28;01mNone\u001b[39;00m \u001b[38;5;129;01mand\u001b[39;00m object_hook \u001b[38;5;129;01mis\u001b[39;00m \u001b[38;5;28;01mNone\u001b[39;00m \u001b[38;5;129;01mand\u001b[39;00m\n\u001b[1;32m    344\u001b[0m         parse_int \u001b[38;5;129;01mis\u001b[39;00m \u001b[38;5;28;01mNone\u001b[39;00m \u001b[38;5;129;01mand\u001b[39;00m parse_float \u001b[38;5;129;01mis\u001b[39;00m \u001b[38;5;28;01mNone\u001b[39;00m \u001b[38;5;129;01mand\u001b[39;00m\n\u001b[1;32m    345\u001b[0m         parse_constant \u001b[38;5;129;01mis\u001b[39;00m \u001b[38;5;28;01mNone\u001b[39;00m \u001b[38;5;129;01mand\u001b[39;00m object_pairs_hook \u001b[38;5;129;01mis\u001b[39;00m \u001b[38;5;28;01mNone\u001b[39;00m \u001b[38;5;129;01mand\u001b[39;00m \u001b[38;5;129;01mnot\u001b[39;00m kw):\n\u001b[0;32m--> 346\u001b[0m     \u001b[38;5;28;01mreturn\u001b[39;00m \u001b[43m_default_decoder\u001b[49m\u001b[38;5;241;43m.\u001b[39;49m\u001b[43mdecode\u001b[49m\u001b[43m(\u001b[49m\u001b[43ms\u001b[49m\u001b[43m)\u001b[49m\n\u001b[1;32m    347\u001b[0m \u001b[38;5;28;01mif\u001b[39;00m \u001b[38;5;28mcls\u001b[39m \u001b[38;5;129;01mis\u001b[39;00m \u001b[38;5;28;01mNone\u001b[39;00m:\n",
      "File \u001b[0;32m/nix/store/7c494qcmh62av43zsxr3wvzh8hcpy1vl-python3-3.12.7/lib/python3.12/json/decoder.py:337\u001b[0m, in \u001b[0;36mJSONDecoder.decode\u001b[0;34m(self, s, _w)\u001b[0m\n\u001b[1;32m    333\u001b[0m \u001b[38;5;250m\u001b[39m\u001b[38;5;124;03m\"\"\"Return the Python representation of ``s`` (a ``str`` instance\u001b[39;00m\n\u001b[1;32m    334\u001b[0m \u001b[38;5;124;03mcontaining a JSON document).\u001b[39;00m\n\u001b[1;32m    335\u001b[0m \n\u001b[1;32m    336\u001b[0m \u001b[38;5;124;03m\"\"\"\u001b[39;00m\n\u001b[0;32m--> 337\u001b[0m obj, end \u001b[38;5;241m=\u001b[39m \u001b[38;5;28;43mself\u001b[39;49m\u001b[38;5;241;43m.\u001b[39;49m\u001b[43mraw_decode\u001b[49m\u001b[43m(\u001b[49m\u001b[43ms\u001b[49m\u001b[43m,\u001b[49m\u001b[43m \u001b[49m\u001b[43midx\u001b[49m\u001b[38;5;241;43m=\u001b[39;49m\u001b[43m_w\u001b[49m\u001b[43m(\u001b[49m\u001b[43ms\u001b[49m\u001b[43m,\u001b[49m\u001b[43m \u001b[49m\u001b[38;5;241;43m0\u001b[39;49m\u001b[43m)\u001b[49m\u001b[38;5;241;43m.\u001b[39;49m\u001b[43mend\u001b[49m\u001b[43m(\u001b[49m\u001b[43m)\u001b[49m\u001b[43m)\u001b[49m\n\u001b[1;32m    338\u001b[0m end \u001b[38;5;241m=\u001b[39m _w(s, end)\u001b[38;5;241m.\u001b[39mend()\n",
      "File \u001b[0;32m/nix/store/7c494qcmh62av43zsxr3wvzh8hcpy1vl-python3-3.12.7/lib/python3.12/json/decoder.py:353\u001b[0m, in \u001b[0;36mJSONDecoder.raw_decode\u001b[0;34m(self, s, idx)\u001b[0m\n\u001b[1;32m    352\u001b[0m \u001b[38;5;28;01mtry\u001b[39;00m:\n\u001b[0;32m--> 353\u001b[0m     obj, end \u001b[38;5;241m=\u001b[39m \u001b[38;5;28;43mself\u001b[39;49m\u001b[38;5;241;43m.\u001b[39;49m\u001b[43mscan_once\u001b[49m\u001b[43m(\u001b[49m\u001b[43ms\u001b[49m\u001b[43m,\u001b[49m\u001b[43m \u001b[49m\u001b[43midx\u001b[49m\u001b[43m)\u001b[49m\n\u001b[1;32m    354\u001b[0m \u001b[38;5;28;01mexcept\u001b[39;00m \u001b[38;5;167;01mStopIteration\u001b[39;00m \u001b[38;5;28;01mas\u001b[39;00m err:\n",
      "\u001b[0;31mJSONDecodeError\u001b[0m: Expecting ',' delimiter: line 1 column 34 (char 33)",
      "\nDuring handling of the above exception, another exception occurred:\n",
      "\u001b[0;31mKeyboardInterrupt\u001b[0m                         Traceback (most recent call last)",
      "Cell \u001b[0;32mIn[13], line 17\u001b[0m\n\u001b[1;32m      8\u001b[0m backtester \u001b[38;5;241m=\u001b[39m Backtester(\n\u001b[1;32m      9\u001b[0m     agent\u001b[38;5;241m=\u001b[39mrun_agent,\n\u001b[1;32m     10\u001b[0m     ticker\u001b[38;5;241m=\u001b[39mticker,\n\u001b[0;32m   (...)\u001b[0m\n\u001b[1;32m     13\u001b[0m     initial_capital\u001b[38;5;241m=\u001b[39minitial_capital,\n\u001b[1;32m     14\u001b[0m )\n\u001b[1;32m     16\u001b[0m \u001b[38;5;66;03m# Run the backtesting process\u001b[39;00m\n\u001b[0;32m---> 17\u001b[0m \u001b[43mbacktester\u001b[49m\u001b[38;5;241;43m.\u001b[39;49m\u001b[43mrun_backtest\u001b[49m\u001b[43m(\u001b[49m\u001b[43m)\u001b[49m\n\u001b[1;32m     18\u001b[0m performance_df \u001b[38;5;241m=\u001b[39m backtester\u001b[38;5;241m.\u001b[39manalyze_performance()\n",
      "Cell \u001b[0;32mIn[12], line 63\u001b[0m, in \u001b[0;36mBacktester.run_backtest\u001b[0;34m(self)\u001b[0m\n\u001b[1;32m     54\u001b[0m current_date_str \u001b[38;5;241m=\u001b[39m current_date\u001b[38;5;241m.\u001b[39mstrftime(\u001b[38;5;124m\"\u001b[39m\u001b[38;5;124m%\u001b[39m\u001b[38;5;124mY-\u001b[39m\u001b[38;5;124m%\u001b[39m\u001b[38;5;124mm-\u001b[39m\u001b[38;5;132;01m%d\u001b[39;00m\u001b[38;5;124m\"\u001b[39m)\n\u001b[1;32m     56\u001b[0m agent_output \u001b[38;5;241m=\u001b[39m \u001b[38;5;28mself\u001b[39m\u001b[38;5;241m.\u001b[39magent(\n\u001b[1;32m     57\u001b[0m     ticker\u001b[38;5;241m=\u001b[39m\u001b[38;5;28mself\u001b[39m\u001b[38;5;241m.\u001b[39mticker,\n\u001b[1;32m     58\u001b[0m     start_date\u001b[38;5;241m=\u001b[39mlookback_start,\n\u001b[1;32m     59\u001b[0m     end_date\u001b[38;5;241m=\u001b[39mcurrent_date_str,\n\u001b[1;32m     60\u001b[0m     portfolio\u001b[38;5;241m=\u001b[39m\u001b[38;5;28mself\u001b[39m\u001b[38;5;241m.\u001b[39mportfolio\n\u001b[1;32m     61\u001b[0m )\n\u001b[0;32m---> 63\u001b[0m action, quantity \u001b[38;5;241m=\u001b[39m \u001b[38;5;28;43mself\u001b[39;49m\u001b[38;5;241;43m.\u001b[39;49m\u001b[43mparse_action\u001b[49m\u001b[43m(\u001b[49m\u001b[43magent_output\u001b[49m\u001b[43m)\u001b[49m\n\u001b[1;32m     64\u001b[0m df \u001b[38;5;241m=\u001b[39m get_price_data(\u001b[38;5;28mself\u001b[39m\u001b[38;5;241m.\u001b[39mticker, lookback_start, current_date_str)\n\u001b[1;32m     65\u001b[0m current_price \u001b[38;5;241m=\u001b[39m df\u001b[38;5;241m.\u001b[39miloc[\u001b[38;5;241m-\u001b[39m\u001b[38;5;241m1\u001b[39m][\u001b[38;5;124m'\u001b[39m\u001b[38;5;124mclose\u001b[39m\u001b[38;5;124m'\u001b[39m]\n",
      "Cell \u001b[0;32mIn[12], line 18\u001b[0m, in \u001b[0;36mBacktester.parse_action\u001b[0;34m(self, agent_output)\u001b[0m\n\u001b[1;32m     16\u001b[0m     \u001b[38;5;28;01mreturn\u001b[39;00m decision[\u001b[38;5;124m\"\u001b[39m\u001b[38;5;124maction\u001b[39m\u001b[38;5;124m\"\u001b[39m], decision[\u001b[38;5;124m\"\u001b[39m\u001b[38;5;124mquantity\u001b[39m\u001b[38;5;124m\"\u001b[39m]\n\u001b[1;32m     17\u001b[0m \u001b[38;5;28;01mexcept\u001b[39;00m:\n\u001b[0;32m---> 18\u001b[0m     \u001b[38;5;28;01mreturn\u001b[39;00m \u001b[38;5;124m\"\u001b[39m\u001b[38;5;124mhold\u001b[39m\u001b[38;5;124m\"\u001b[39m, \u001b[38;5;241m0\u001b[39m\n",
      "File \u001b[0;32m<stringsource>:69\u001b[0m, in \u001b[0;36mcfunc.to_py.__Pyx_CFunc_b0409f__29_pydevd_sys_monitoring_cython_object__lParen__etc_to_py_4code_4line.wrap\u001b[0;34m()\u001b[0m\n",
      "File \u001b[0;32m_pydevd_sys_monitoring\\\\_pydevd_sys_monitoring_cython.pyx:1465\u001b[0m, in \u001b[0;36m_pydevd_sys_monitoring_cython._line_event\u001b[0;34m()\u001b[0m\n",
      "File \u001b[0;32m_pydevd_sys_monitoring\\\\_pydevd_sys_monitoring_cython.pyx:1507\u001b[0m, in \u001b[0;36m_pydevd_sys_monitoring_cython._internal_line_event\u001b[0;34m()\u001b[0m\n",
      "File \u001b[0;32m_pydevd_sys_monitoring\\\\_pydevd_sys_monitoring_cython.pyx:1308\u001b[0m, in \u001b[0;36m_pydevd_sys_monitoring_cython._stop_on_breakpoint\u001b[0;34m()\u001b[0m\n",
      "File \u001b[0;32m_pydevd_sys_monitoring\\\\_pydevd_sys_monitoring_cython.pyx:1945\u001b[0m, in \u001b[0;36m_pydevd_sys_monitoring_cython._do_wait_suspend\u001b[0;34m()\u001b[0m\n",
      "File \u001b[0;32m~/Projects/ai/myada/.venv/lib/python3.12/site-packages/debugpy/_vendored/pydevd/pydevd.py:2185\u001b[0m, in \u001b[0;36mPyDB.do_wait_suspend\u001b[0;34m(self, thread, frame, event, arg, exception_type)\u001b[0m\n\u001b[1;32m   2182\u001b[0m             from_this_thread\u001b[38;5;241m.\u001b[39mappend(frame_custom_thread_id)\n\u001b[1;32m   2184\u001b[0m     \u001b[38;5;28;01mwith\u001b[39;00m \u001b[38;5;28mself\u001b[39m\u001b[38;5;241m.\u001b[39m_threads_suspended_single_notification\u001b[38;5;241m.\u001b[39mnotify_thread_suspended(thread_id, thread, stop_reason):\n\u001b[0;32m-> 2185\u001b[0m         keep_suspended \u001b[38;5;241m=\u001b[39m \u001b[38;5;28;43mself\u001b[39;49m\u001b[38;5;241;43m.\u001b[39;49m\u001b[43m_do_wait_suspend\u001b[49m\u001b[43m(\u001b[49m\u001b[43mthread\u001b[49m\u001b[43m,\u001b[49m\u001b[43m \u001b[49m\u001b[43mframe\u001b[49m\u001b[43m,\u001b[49m\u001b[43m \u001b[49m\u001b[43mevent\u001b[49m\u001b[43m,\u001b[49m\u001b[43m \u001b[49m\u001b[43marg\u001b[49m\u001b[43m,\u001b[49m\u001b[43m \u001b[49m\u001b[43mtrace_suspend_type\u001b[49m\u001b[43m,\u001b[49m\u001b[43m \u001b[49m\u001b[43mfrom_this_thread\u001b[49m\u001b[43m,\u001b[49m\u001b[43m \u001b[49m\u001b[43mframes_tracker\u001b[49m\u001b[43m)\u001b[49m\n\u001b[1;32m   2187\u001b[0m frames_list \u001b[38;5;241m=\u001b[39m \u001b[38;5;28;01mNone\u001b[39;00m\n\u001b[1;32m   2189\u001b[0m \u001b[38;5;28;01mif\u001b[39;00m keep_suspended:\n\u001b[1;32m   2190\u001b[0m     \u001b[38;5;66;03m# This means that we should pause again after a set next statement.\u001b[39;00m\n",
      "File \u001b[0;32m~/Projects/ai/myada/.venv/lib/python3.12/site-packages/debugpy/_vendored/pydevd/pydevd.py:2254\u001b[0m, in \u001b[0;36mPyDB._do_wait_suspend\u001b[0;34m(self, thread, frame, event, arg, trace_suspend_type, from_this_thread, frames_tracker)\u001b[0m\n\u001b[1;32m   2251\u001b[0m                 queue\u001b[38;5;241m.\u001b[39mput(internal_cmd)\n\u001b[1;32m   2252\u001b[0m                 wait_timeout \u001b[38;5;241m=\u001b[39m TIMEOUT_FAST\n\u001b[0;32m-> 2254\u001b[0m         \u001b[43mnotify_event\u001b[49m\u001b[38;5;241;43m.\u001b[39;49m\u001b[43mwait\u001b[49m\u001b[43m(\u001b[49m\u001b[43mwait_timeout\u001b[49m\u001b[43m)\u001b[49m\n\u001b[1;32m   2255\u001b[0m         notify_event\u001b[38;5;241m.\u001b[39mclear()\n\u001b[1;32m   2257\u001b[0m \u001b[38;5;28;01mfinally\u001b[39;00m:\n",
      "File \u001b[0;32m/nix/store/7c494qcmh62av43zsxr3wvzh8hcpy1vl-python3-3.12.7/lib/python3.12/threading.py:655\u001b[0m, in \u001b[0;36mEvent.wait\u001b[0;34m(self, timeout)\u001b[0m\n\u001b[1;32m    653\u001b[0m signaled \u001b[38;5;241m=\u001b[39m \u001b[38;5;28mself\u001b[39m\u001b[38;5;241m.\u001b[39m_flag\n\u001b[1;32m    654\u001b[0m \u001b[38;5;28;01mif\u001b[39;00m \u001b[38;5;129;01mnot\u001b[39;00m signaled:\n\u001b[0;32m--> 655\u001b[0m     signaled \u001b[38;5;241m=\u001b[39m \u001b[38;5;28;43mself\u001b[39;49m\u001b[38;5;241;43m.\u001b[39;49m\u001b[43m_cond\u001b[49m\u001b[38;5;241;43m.\u001b[39;49m\u001b[43mwait\u001b[49m\u001b[43m(\u001b[49m\u001b[43mtimeout\u001b[49m\u001b[43m)\u001b[49m\n\u001b[1;32m    656\u001b[0m \u001b[38;5;28;01mreturn\u001b[39;00m signaled\n",
      "File \u001b[0;32m/nix/store/7c494qcmh62av43zsxr3wvzh8hcpy1vl-python3-3.12.7/lib/python3.12/threading.py:359\u001b[0m, in \u001b[0;36mCondition.wait\u001b[0;34m(self, timeout)\u001b[0m\n\u001b[1;32m    357\u001b[0m \u001b[38;5;28;01melse\u001b[39;00m:\n\u001b[1;32m    358\u001b[0m     \u001b[38;5;28;01mif\u001b[39;00m timeout \u001b[38;5;241m>\u001b[39m \u001b[38;5;241m0\u001b[39m:\n\u001b[0;32m--> 359\u001b[0m         gotit \u001b[38;5;241m=\u001b[39m \u001b[43mwaiter\u001b[49m\u001b[38;5;241;43m.\u001b[39;49m\u001b[43macquire\u001b[49m\u001b[43m(\u001b[49m\u001b[38;5;28;43;01mTrue\u001b[39;49;00m\u001b[43m,\u001b[49m\u001b[43m \u001b[49m\u001b[43mtimeout\u001b[49m\u001b[43m)\u001b[49m\n\u001b[1;32m    360\u001b[0m     \u001b[38;5;28;01melse\u001b[39;00m:\n\u001b[1;32m    361\u001b[0m         gotit \u001b[38;5;241m=\u001b[39m waiter\u001b[38;5;241m.\u001b[39macquire(\u001b[38;5;28;01mFalse\u001b[39;00m)\n",
      "\u001b[0;31mKeyboardInterrupt\u001b[0m: "
     ]
    }
   ],
   "source": [
    "# Define parameters\n",
    "ticker = \"NVDA\"  # Example ticker symbol\n",
    "start_date = \"2024-01-01\"  # Adjust as needed\n",
    "end_date = \"2024-12-23\"  # Adjust as needed\n",
    "initial_capital = 100000  # $100,000\n",
    "\n",
    "# Create an instance of Backtester\n",
    "backtester = Backtester(\n",
    "    agent=run_agent,\n",
    "    ticker=ticker,\n",
    "    start_date=start_date,\n",
    "    end_date=end_date,\n",
    "    initial_capital=initial_capital,\n",
    ")\n",
    "\n",
    "# Run the backtesting process\n",
    "backtester.run_backtest()\n",
    "performance_df = backtester.analyze_performance()"
   ]
  }
 ],
 "metadata": {
  "kernelspec": {
   "display_name": ".venv",
   "language": "python",
   "name": "python3"
  },
  "language_info": {
   "codemirror_mode": {
    "name": "ipython",
    "version": 3
   },
   "file_extension": ".py",
   "mimetype": "text/x-python",
   "name": "python",
   "nbconvert_exporter": "python",
   "pygments_lexer": "ipython3",
   "version": "3.12.7"
  }
 },
 "nbformat": 4,
 "nbformat_minor": 5
}
