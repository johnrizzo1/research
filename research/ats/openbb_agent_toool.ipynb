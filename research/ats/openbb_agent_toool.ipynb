{
 "cells": [
  {
   "cell_type": "code",
   "execution_count": 1,
   "metadata": {},
   "outputs": [],
   "source": [
    "from openbb import obb\n",
    "from langchain.agents import AgentExecutor, create_openai_functions_agent, create_tool_calling_agent\n",
    "from langchain_openai import ChatOpenAI\n",
    "from langchain_ollama import ChatOllama\n",
    "from langchain_core.prompts import ChatPromptTemplate, MessagesPlaceholder\n",
    "from langchain_core.tools import StructuredTool"
   ]
  },
  {
   "cell_type": "code",
   "execution_count": 2,
   "metadata": {},
   "outputs": [],
   "source": [
    "\n",
    "llm_historical_price = StructuredTool.from_function(\n",
    "    func=obb.equity.price.historical,\n",
    "    description=obb.equity.price.historical.__doc__.split(\"\\n\")[0],  # Use first line of docstring\n",
    ")"
   ]
  },
  {
   "cell_type": "code",
   "execution_count": 6,
   "metadata": {},
   "outputs": [],
   "source": [
    "prompt = ChatPromptTemplate.from_messages(\n",
    "    [\n",
    "        (\"system\", \"You are a very powerful assistant, but don't know current events\"),\n",
    "        (\"user\", \"{input}\"),\n",
    "        MessagesPlaceholder(variable_name=\"agent_scratchpad\"),\n",
    "    ]\n",
    ")\n",
    "\n",
    "llm_tools = [\n",
    "    StructuredTool.from_function(\n",
    "        func=obb.equity.price.quote,\n",
    "        description=obb.equity.price.quote.__doc__.split(\"\\n\")[0],\n",
    "    ),\n",
    "    StructuredTool.from_function(\n",
    "        func=obb.equity.price.historical,\n",
    "        description=obb.equity.price.historical.__doc__.split(\"\\n\")[0],\n",
    "    )\n",
    "]"
   ]
  },
  {
   "cell_type": "code",
   "execution_count": 11,
   "metadata": {},
   "outputs": [
    {
     "name": "stdout",
     "output_type": "stream",
     "text": [
      "\n",
      "\n",
      "\u001b[1m> Entering new AgentExecutor chain...\u001b[0m\n",
      "\u001b[32;1m\u001b[1;3m\n",
      "Invoking: `historical` with `{'end_date': '2025-01-12', 'provider': 'yfinance', 'start_date': '2025-01-01', 'symbol': 'AAPL'}`\n",
      "\n",
      "\n",
      "\u001b[0m\u001b[33;1m\u001b[1;3mid='06784326-c63c-7835-8000-a5301a0723b2' results=[YFinanceEquityHistoricalData(date=2025-01-02, open=248.92999267578125, high=249.10000610351562, low=241.82000732421875, close=243.85000610351562, volume=55740700, vwap=None, split_ratio=None, dividend=None), YFinanceEquityHistoricalData(date=2025-01-03, open=243.36000061035156, high=244.17999267578125, low=241.88999938964844, close=243.36000061035156, volume=40244100, vwap=None, split_ratio=None, dividend=None), YFinanceEquityHistoricalData(date=2025-01-06, open=244.30999755859375, high=247.3300018310547, low=243.1999969482422, close=245.0, volume=45045600, vwap=None, split_ratio=None, dividend=None), YFinanceEquityHistoricalData(date=2025-01-07, open=242.97999572753906, high=245.5500030517578, low=241.35000610351562, close=242.2100067138672, volume=40856000, vwap=None, split_ratio=None, dividend=None), YFinanceEquityHistoricalData(date=2025-01-08, open=241.9199981689453, high=243.7100067138672, low=240.0500030517578, close=242.6999969482422, volume=37628900, vwap=None, split_ratio=None, dividend=None), YFinanceEquityHistoricalData(date=2025-01-10, open=240.00999450683594, high=240.16000366210938, low=233.0, close=236.85000610351562, volume=61679400, vwap=None, split_ratio=None, dividend=None)] provider='yfinance' warnings=None chart=None extra={'metadata': Metadata\n",
      "\n",
      "arguments: {'provider_choices': {'provider': 'yfinance'}, 'standard_params': {'symbol': 'AAPL', 'start_date': '2025-01-01', 'end_date': '2025-01-12'}, 'extra_params': {}}\n",
      "duration: 102928844\n",
      "route: /equity/price/historical\n",
      "timestamp: 2025-01-12 16:21:48.287348}\u001b[0m\u001b[32;1m\u001b[1;3m\n",
      "Invoking: `quote` with `{'provider': 'yfinance', 'symbol': 'AAPL'}`\n",
      "\n",
      "\n",
      "\u001b[0m\u001b[36;1m\u001b[1;3mid='06784326-c709-761f-8000-4440c9322644' results=[YFinanceEquityQuoteData(symbol=AAPL, asset_type=EQUITY, name=Apple Inc., exchange=NMS, bid=223.29, bid_size=100, bid_exchange=None, ask=247.42, ask_size=100, ask_exchange=None, quote_conditions=None, quote_indicators=None, sales_conditions=None, sequence_number=None, market_center=None, participant_timestamp=None, trf_timestamp=None, sip_timestamp=None, last_price=236.85, last_tick=None, last_size=None, last_timestamp=None, open=240.025, high=240.15, low=233.0, close=None, volume=61710856, exchange_volume=None, prev_close=242.7, change=None, change_percent=None, year_high=260.1, year_low=164.08, ma_50d=238.7128, ma_200d=215.46355, volume_average=45067829.0, volume_average_10d=42582530.0, currency=USD)] provider='yfinance' warnings=None chart=None extra={'metadata': Metadata\n",
      "\n",
      "arguments: {'provider_choices': {'provider': 'yfinance'}, 'standard_params': {'symbol': 'AAPL'}, 'extra_params': {}}\n",
      "duration: 48063020\n",
      "route: /equity/price/quote\n",
      "timestamp: 2025-01-12 16:21:48.392222}\u001b[0m\u001b[32;1m\u001b[1;3mBased on the historical data provided by yfinance, the price of AAPL from January 1st to January 12th, 2025 is generally going up.\n",
      "\n",
      "The closing prices for each day are as follows:\n",
      "\n",
      "* January 2nd: $243.85\n",
      "* January 3rd: $243.36\n",
      "* January 6th: $245.00\n",
      "* January 7th: $242.21\n",
      "* January 8th: $242.70\n",
      "* January 10th: $236.85\n",
      "\n",
      "The highest closing price during this period is $245.00 on January 6th, and the lowest closing price is $233.00 on January 10th.\n",
      "\n",
      "Therefore, based on the historical data, it appears that the price of AAPL was going up from January 1st to January 12th, 2025.\u001b[0m\n",
      "\n",
      "\u001b[1m> Finished chain.\u001b[0m\n"
     ]
    },
    {
     "data": {
      "text/plain": [
       "{'input': 'Is the price of AAPL going up or down when compared against its historical price starting on 2025-01-01 to 2025-01-12?',\n",
       " 'output': 'Based on the historical data provided by yfinance, the price of AAPL from January 1st to January 12th, 2025 is generally going up.\\n\\nThe closing prices for each day are as follows:\\n\\n* January 2nd: $243.85\\n* January 3rd: $243.36\\n* January 6th: $245.00\\n* January 7th: $242.21\\n* January 8th: $242.70\\n* January 10th: $236.85\\n\\nThe highest closing price during this period is $245.00 on January 6th, and the lowest closing price is $233.00 on January 10th.\\n\\nTherefore, based on the historical data, it appears that the price of AAPL was going up from January 1st to January 12th, 2025.'}"
      ]
     },
     "execution_count": 11,
     "metadata": {},
     "output_type": "execute_result"
    }
   ],
   "source": [
    "\n",
    "# llm = ChatOpenAI(model=\"gpt-4\", temperature=0.1)\n",
    "llm = ChatOllama(model=\"llama3.2\", temperature=0.1)\n",
    "\n",
    "agent = create_tool_calling_agent(llm=llm, tools=llm_tools, prompt=prompt)\n",
    "# agent = create_openai_functions_agent(llm=llm, tools=llm_tools, prompt=prompt)\n",
    "agent_executor = AgentExecutor(agent=agent, tools=llm_tools, verbose=True)\n",
    "\n",
    "# agent_executor.invoke({\"input\": \"What is the latest stock price of AAPL?\"})\n",
    "agent_executor.invoke({\"input\": \"Is the price of AAPL going up or down when compared against its historical price starting on 2025-01-01 to 2025-01-12?\"})\n",
    "# agent_executor.invoke({\"input\": \"Based on the comparison of the price as of 2025-01-10 against the historical price indicate if the security is going to go up or down.\"})"
   ]
  }
 ],
 "metadata": {
  "kernelspec": {
   "display_name": "venv",
   "language": "python",
   "name": "python3"
  },
  "language_info": {
   "codemirror_mode": {
    "name": "ipython",
    "version": 3
   },
   "file_extension": ".py",
   "mimetype": "text/x-python",
   "name": "python",
   "nbconvert_exporter": "python",
   "pygments_lexer": "ipython3",
   "version": "3.12.8"
  }
 },
 "nbformat": 4,
 "nbformat_minor": 2
}
