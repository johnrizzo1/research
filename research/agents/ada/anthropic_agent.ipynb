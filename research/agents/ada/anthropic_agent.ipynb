{
 "cells": [
  {
   "cell_type": "code",
   "execution_count": 1,
   "metadata": {},
   "outputs": [
    {
     "name": "stdout",
     "output_type": "stream",
     "text": [
      "/Users/jrizzo/Projects/ai/myada/.venv/bin/python: No module named pip\n",
      "Note: you may need to restart the kernel to use updated packages.\n"
     ]
    }
   ],
   "source": [
    "%pip install -U langchain-community langgraph langchain-anthropic tavily-python langgraph-checkpoint-sqlite"
   ]
  },
  {
   "cell_type": "code",
   "execution_count": 3,
   "metadata": {},
   "outputs": [
    {
     "name": "stdout",
     "output_type": "stream",
     "text": [
      "{'agent': {'messages': [AIMessage(content=\"Hello Bob! Since you didn't ask a specific question, I don't need to use any tools for this interaction. It's nice to meet you. San Francisco is a beautiful city with lots to see and do. What are some of your favorite things about living there?\", additional_kwargs={}, response_metadata={'id': 'msg_018A62qXKSMHC7UmMAi5fuCH', 'model': 'claude-3-sonnet-20240229', 'stop_reason': 'end_turn', 'stop_sequence': None, 'usage': {'cache_creation_input_tokens': 0, 'cache_read_input_tokens': 0, 'input_tokens': 271, 'output_tokens': 58}}, id='run-4d062814-0757-47e5-ba85-f0a74e98517f-0', usage_metadata={'input_tokens': 271, 'output_tokens': 58, 'total_tokens': 329, 'input_token_details': {'cache_read': 0, 'cache_creation': 0}})]}}\n",
      "----\n",
      "{'agent': {'messages': [AIMessage(content=[{'text': 'To get accurate weather information for your location in San Francisco, let me invoke the search tool:', 'type': 'text'}, {'id': 'toolu_011wb1mf8vaFGmcTaAd1F7Zb', 'input': {'query': 'san francisco weather'}, 'name': 'tavily_search_results_json', 'type': 'tool_use'}], additional_kwargs={}, response_metadata={'id': 'msg_0139uecwcmPLepSjKjfPYxgg', 'model': 'claude-3-sonnet-20240229', 'stop_reason': 'tool_use', 'stop_sequence': None, 'usage': {'cache_creation_input_tokens': 0, 'cache_read_input_tokens': 0, 'input_tokens': 340, 'output_tokens': 80}}, id='run-a311a677-93db-490d-8261-a60d34afd93d-0', tool_calls=[{'name': 'tavily_search_results_json', 'args': {'query': 'san francisco weather'}, 'id': 'toolu_011wb1mf8vaFGmcTaAd1F7Zb', 'type': 'tool_call'}], usage_metadata={'input_tokens': 340, 'output_tokens': 80, 'total_tokens': 420, 'input_token_details': {'cache_read': 0, 'cache_creation': 0}})]}}\n",
      "----\n",
      "{'tools': {'messages': [ToolMessage(content='[{\"url\": \"https://www.weatherapi.com/\", \"content\": \"{\\'location\\': {\\'name\\': \\'San Francisco\\', \\'region\\': \\'California\\', \\'country\\': \\'United States of America\\', \\'lat\\': 37.775, \\'lon\\': -122.4183, \\'tz_id\\': \\'America/Los_Angeles\\', \\'localtime_epoch\\': 1735222156, \\'localtime\\': \\'2024-12-26 06:09\\'}, \\'current\\': {\\'last_updated_epoch\\': 1735221600, \\'last_updated\\': \\'2024-12-26 06:00\\', \\'temp_c\\': 10.8, \\'temp_f\\': 51.4, \\'is_day\\': 0, \\'condition\\': {\\'text\\': \\'Overcast\\', \\'icon\\': \\'//cdn.weatherapi.com/weather/64x64/night/122.png\\', \\'code\\': 1009}, \\'wind_mph\\': 9.8, \\'wind_kph\\': 15.8, \\'wind_degree\\': 165, \\'wind_dir\\': \\'SSE\\', \\'pressure_mb\\': 1021.0, \\'pressure_in\\': 30.16, \\'precip_mm\\': 0.0, \\'precip_in\\': 0.0, \\'humidity\\': 95, \\'cloud\\': 100, \\'feelslike_c\\': 8.9, \\'feelslike_f\\': 48.1, \\'windchill_c\\': 8.9, \\'windchill_f\\': 48.1, \\'heatindex_c\\': 10.8, \\'heatindex_f\\': 51.4, \\'dewpoint_c\\': 10.3, \\'dewpoint_f\\': 50.5, \\'vis_km\\': 10.0, \\'vis_miles\\': 6.0, \\'uv\\': 0.0, \\'gust_mph\\': 15.9, \\'gust_kph\\': 25.7}}\"}, {\"url\": \"https://weathershogun.com/weather/usa/ca/san-francisco/480/december/2024-12-26\", \"content\": \"Thursday, December 26, 2024. San Francisco, CA - Weather Forecast San Francisco, CA Home Contact Browse States Privacy Policy Terms and Conditions °F) °C) Today Tomorrow Hourly 7 days 30 days December San Francisco, California Weather: High Surf Advisory (Warning for dangerously high waves affecting beach and coastal safety) Thursday, December 26, 2024 Day 61° Night 55° Precipitation 69 % Wind 12 mph UV Index (0 - 11+) 1 Friday Hourly Today Tomorrow 7 days 30 days Weather Forecast History Last Year\\'s Weather on This Day (December 26, 2023) Day 57° Night 50° Please note that while we strive for accuracy, the information provided may not always be correct. Use at your own risk. © Copyright by WeatherShogun.com\"}]', name='tavily_search_results_json', id='6d627b8c-2c54-4c91-9984-286fe2f928b2', tool_call_id='toolu_011wb1mf8vaFGmcTaAd1F7Zb', artifact={'query': 'san francisco weather', 'follow_up_questions': None, 'answer': None, 'images': [], 'results': [{'title': 'Weather in San Francisco, California, USA', 'url': 'https://www.weatherapi.com/', 'content': \"{'location': {'name': 'San Francisco', 'region': 'California', 'country': 'United States of America', 'lat': 37.775, 'lon': -122.4183, 'tz_id': 'America/Los_Angeles', 'localtime_epoch': 1735222156, 'localtime': '2024-12-26 06:09'}, 'current': {'last_updated_epoch': 1735221600, 'last_updated': '2024-12-26 06:00', 'temp_c': 10.8, 'temp_f': 51.4, 'is_day': 0, 'condition': {'text': 'Overcast', 'icon': '//cdn.weatherapi.com/weather/64x64/night/122.png', 'code': 1009}, 'wind_mph': 9.8, 'wind_kph': 15.8, 'wind_degree': 165, 'wind_dir': 'SSE', 'pressure_mb': 1021.0, 'pressure_in': 30.16, 'precip_mm': 0.0, 'precip_in': 0.0, 'humidity': 95, 'cloud': 100, 'feelslike_c': 8.9, 'feelslike_f': 48.1, 'windchill_c': 8.9, 'windchill_f': 48.1, 'heatindex_c': 10.8, 'heatindex_f': 51.4, 'dewpoint_c': 10.3, 'dewpoint_f': 50.5, 'vis_km': 10.0, 'vis_miles': 6.0, 'uv': 0.0, 'gust_mph': 15.9, 'gust_kph': 25.7}}\", 'score': 0.9484928, 'raw_content': None}, {'title': 'Thursday, December 26, 2024. San Francisco, CA - Weather Forecast', 'url': 'https://weathershogun.com/weather/usa/ca/san-francisco/480/december/2024-12-26', 'content': \"Thursday, December 26, 2024. San Francisco, CA - Weather Forecast San Francisco, CA Home Contact Browse States Privacy Policy Terms and Conditions °F) °C) Today Tomorrow Hourly 7 days 30 days December San Francisco, California Weather: High Surf Advisory (Warning for dangerously high waves affecting beach and coastal safety) Thursday, December 26, 2024 Day 61° Night 55° Precipitation 69 % Wind 12 mph UV Index (0 - 11+) 1 Friday Hourly Today Tomorrow 7 days 30 days Weather Forecast History Last Year's Weather on This Day (December 26, 2023) Day 57° Night 50° Please note that while we strive for accuracy, the information provided may not always be correct. Use at your own risk. © Copyright by WeatherShogun.com\", 'score': 0.92825955, 'raw_content': None}], 'response_time': 2.43})]}}\n",
      "----\n",
      "{'agent': {'messages': [AIMessage(content='Based on the search results, the current weather for San Francisco is overcast with a temperature around 51°F/11°C. There is a high chance of precipitation at 69% and moderate winds around 10-15 mph. The weather seems typical for San Francisco this time of year, with cool temperatures and potential rain. Let me know if you need any other details about the local weather where you live, Bob!', additional_kwargs={}, response_metadata={'id': 'msg_01F3U9q888jwVwfb55L6s4FY', 'model': 'claude-3-sonnet-20240229', 'stop_reason': 'end_turn', 'stop_sequence': None, 'usage': {'cache_creation_input_tokens': 0, 'cache_read_input_tokens': 0, 'input_tokens': 1156, 'output_tokens': 92}}, id='run-65de3ace-4133-40bc-aea0-f963dd4f06fd-0', usage_metadata={'input_tokens': 1156, 'output_tokens': 92, 'total_tokens': 1248, 'input_token_details': {'cache_read': 0, 'cache_creation': 0}})]}}\n",
      "----\n"
     ]
    }
   ],
   "source": [
    "# Import relevant functionality\n",
    "from langchain_anthropic import ChatAnthropic\n",
    "from langchain_community.tools.tavily_search import TavilySearchResults\n",
    "from langchain_core.messages import HumanMessage\n",
    "from langgraph.checkpoint.memory import MemorySaver\n",
    "from langgraph.prebuilt import create_react_agent\n",
    "from dotenv import load_dotenv\n",
    "import os\n",
    "\n",
    "\n",
    "# Load environment variables\n",
    "load_dotenv()\n",
    "os.environ[\"LANGCHAIN_TRACING_V2\"] = \"true\"\n",
    "\n",
    "\n",
    "# Create the agent\n",
    "memory = MemorySaver()\n",
    "model = ChatAnthropic(model_name=\"claude-3-sonnet-20240229\", api_key=os.getenv(\"ANTHROPIC_API_KEY\"))\n",
    "search = TavilySearchResults(max_results=2)\n",
    "tools = [search]\n",
    "agent_executor = create_react_agent(model, tools, checkpointer=memory)\n",
    "\n",
    "# Use the agent\n",
    "config = {\"configurable\": {\"thread_id\": \"abc123\"}}\n",
    "for chunk in agent_executor.stream(\n",
    "    {\"messages\": [HumanMessage(content=\"hi im bob! and i live in sf\")]}, config\n",
    "):\n",
    "    print(chunk)\n",
    "    print(\"----\")\n",
    "\n",
    "for chunk in agent_executor.stream(\n",
    "    {\"messages\": [HumanMessage(content=\"whats the weather where I live?\")]}, config\n",
    "):\n",
    "    print(chunk)\n",
    "    print(\"----\")"
   ]
  },
  {
   "cell_type": "code",
   "execution_count": null,
   "metadata": {},
   "outputs": [],
   "source": []
  }
 ],
 "metadata": {
  "kernelspec": {
   "display_name": ".venv",
   "language": "python",
   "name": "python3"
  },
  "language_info": {
   "codemirror_mode": {
    "name": "ipython",
    "version": 3
   },
   "file_extension": ".py",
   "mimetype": "text/x-python",
   "name": "python",
   "nbconvert_exporter": "python",
   "pygments_lexer": "ipython3",
   "version": "3.12.7"
  }
 },
 "nbformat": 4,
 "nbformat_minor": 2
}
