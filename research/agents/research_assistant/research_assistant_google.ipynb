{
 "cells": [
  {
   "cell_type": "code",
   "execution_count": 2,
   "id": "initial_id",
   "metadata": {
    "ExecuteTime": {
     "end_time": "2024-12-19T19:04:27.872744Z",
     "start_time": "2024-12-19T19:04:27.335578Z"
    },
    "collapsed": true
   },
   "outputs": [
    {
     "ename": "ImportError",
     "evalue": "cannot import name 'text' from 'google.generativeai' (/Users/jrizzo/Projects/ai/myada/.venv/lib/python3.12/site-packages/google/generativeai/__init__.py)",
     "output_type": "error",
     "traceback": [
      "\u001b[0;31m---------------------------------------------------------------------------\u001b[0m",
      "\u001b[0;31mImportError\u001b[0m                               Traceback (most recent call last)",
      "Cell \u001b[0;32mIn[2], line 7\u001b[0m\n\u001b[1;32m      5\u001b[0m \u001b[38;5;28;01mimport\u001b[39;00m \u001b[38;5;21;01mtime\u001b[39;00m\n\u001b[1;32m      6\u001b[0m \u001b[38;5;28;01mimport\u001b[39;00m \u001b[38;5;21;01mrandom\u001b[39;00m\n\u001b[0;32m----> 7\u001b[0m \u001b[38;5;28;01mfrom\u001b[39;00m \u001b[38;5;21;01mgoogle\u001b[39;00m\u001b[38;5;21;01m.\u001b[39;00m\u001b[38;5;21;01mgenerativeai\u001b[39;00m \u001b[38;5;28;01mimport\u001b[39;00m text \u001b[38;5;28;01mas\u001b[39;00m generative_text\n\u001b[1;32m      9\u001b[0m \u001b[38;5;66;03m# Set your Gemini API key (replace with your actual key)\u001b[39;00m\n\u001b[1;32m     10\u001b[0m os\u001b[38;5;241m.\u001b[39menviron[\u001b[38;5;124m\"\u001b[39m\u001b[38;5;124mGOOGLE_API_KEY\u001b[39m\u001b[38;5;124m\"\u001b[39m] \u001b[38;5;241m=\u001b[39m os\u001b[38;5;241m.\u001b[39menviron\u001b[38;5;241m.\u001b[39mget(\u001b[38;5;124m\"\u001b[39m\u001b[38;5;124mGOOGLE_SEARCH_API_KEY\u001b[39m\u001b[38;5;124m\"\u001b[39m)\n",
      "\u001b[0;31mImportError\u001b[0m: cannot import name 'text' from 'google.generativeai' (/Users/jrizzo/Projects/ai/myada/.venv/lib/python3.12/site-packages/google/generativeai/__init__.py)"
     ]
    }
   ],
   "source": [
    "import os\n",
    "import requests\n",
    "from bs4 import BeautifulSoup\n",
    "import re\n",
    "import time\n",
    "import random\n",
    "from google.generativeai import text as generative_text\n",
    "\n",
    "# Set your Gemini API key (replace with your actual key)\n",
    "os.environ[\"GOOGLE_API_KEY\"] = os.environ.get(\"GOOGLE_SEARCH_API_KEY\")\n",
    "\n",
    "class GeminiResearchAssistant:\n",
    "    def __init__(self, user_agent=None, search_engine=\"google\"):\n",
    "        self.user_agent = user_agent or self._get_random_user_agent()\n",
    "        self.search_engine = search_engine.lower()\n",
    "        generative_text.configure(api_key=os.environ[\"GOOGLE_API_KEY\"])\n",
    "\n",
    "    def summarize_with_gemini(self, text, prompt_instructions=\"Summarize the following text concisely:\"):\n",
    "        try:\n",
    "            response = generative_text.generate_text(\n",
    "                model=\"gemini-pro\", # Or a specific Gemini model if available\n",
    "                prompt=prompt_instructions + \"\\n\\n\" + text,\n",
    "                temperature=0.7, # Adjust temperature for creativity/precision\n",
    "                max_output_tokens=500, # Limit the summary length\n",
    "            )\n",
    "            return response.result\n",
    "        except Exception as e: # Catch Gemini API errors\n",
    "            print(f\"Gemini API Error: {e}\")\n",
    "            return None\n",
    "\n",
    "\n",
    "    def research_topic(self, topic, num_search_results=5, max_pages_to_extract=2):\n",
    "        search_results = self.search(topic, num_results=num_search_results)\n",
    "        extracted_data = []\n",
    "        for i, url in enumerate(search_results):\n",
    "            if i >= max_pages_to_extract:\n",
    "                break\n",
    "            print(f\"Extracting data from: {url}\")\n",
    "            text = self.extract_text(url)\n",
    "            if text:\n",
    "                summary = self.summarize_with_gemini(text) # Summarize with Gemini\n",
    "                if summary:\n",
    "                    extracted_data.append({\"url\": url, \"summary\": summary})\n",
    "                else:\n",
    "                    print(f\"Failed to summarize content from {url}\")\n",
    "\n",
    "            time.sleep(random.uniform(1, 3))\n",
    "        return extracted_data\n",
    "\n",
    "# Example usage:\n",
    "assistant = GeminiResearchAssistant(search_engine=\"google\")\n",
    "research_data = assistant.research_topic(\"the impact of AI on jobs\", num_search_results=3, max_pages_to_extract=2)\n",
    "\n",
    "if research_data:\n",
    "    for item in research_data:\n",
    "        print(f\"URL: {item['url']}\")\n",
    "        print(f\"Summary: {item['summary']}\")\n",
    "        print(\"-\" * 20)\n",
    "else:\n",
    "    print(\"No data retrieved.\")"
   ]
  },
  {
   "cell_type": "code",
   "execution_count": null,
   "id": "35bd2041edef51a4",
   "metadata": {},
   "outputs": [],
   "source": []
  }
 ],
 "metadata": {
  "kernelspec": {
   "display_name": ".venv",
   "language": "python",
   "name": "python3"
  },
  "language_info": {
   "codemirror_mode": {
    "name": "ipython",
    "version": 3
   },
   "file_extension": ".py",
   "mimetype": "text/x-python",
   "name": "python",
   "nbconvert_exporter": "python",
   "pygments_lexer": "ipython3",
   "version": "3.12.7"
  }
 },
 "nbformat": 4,
 "nbformat_minor": 5
}
