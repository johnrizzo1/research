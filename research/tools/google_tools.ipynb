{
 "cells": [
  {
   "cell_type": "code",
   "execution_count": 1,
   "metadata": {
    "ExecuteTime": {
     "end_time": "2024-12-01T22:59:09.955755Z",
     "start_time": "2024-12-01T22:59:07.897586Z"
    }
   },
   "outputs": [],
   "source": [
    "from llama_index.agent.openai import OpenAIAgent\n",
    "from llama_index.llms.openai import OpenAI\n",
    "import openai\n",
    "from llama_index.core.tools import FunctionTool\n",
    "from llama_index.tools.google import GmailToolSpec\n",
    "from llama_index.tools.google import GoogleCalendarToolSpec\n",
    "from llama_index.tools.google import GoogleSearchToolSpec\n",
    "# from llama_index.tools.wikipedia import WikipediaToolSpec\n",
    "import os\n",
    "from dotenv import load_dotenv"
   ]
  },
  {
   "cell_type": "code",
   "execution_count": 2,
   "metadata": {
    "ExecuteTime": {
     "end_time": "2024-11-24T20:10:41.608824Z",
     "start_time": "2024-11-24T20:10:41.600937Z"
    }
   },
   "outputs": [],
   "source": [
    "load_dotenv()\n",
    "\n",
    "openai.api_key = os.getenv('OPENAI_API_KEY')\n",
    "\n",
    "gmail_tools = GmailToolSpec().to_tool_list()\n",
    "gcal_tools = GoogleCalendarToolSpec().to_tool_list()\n",
    "gsearch_tools = GoogleSearchToolSpec(key=os.getenv('GOOGLE_SEARCH_API_KEY'), engine=\"engine\").to_tool_list()\n",
    "# wikipedia_tools = WikipediaToolSpec().to_tool_list(\n",
    "\n",
    "def multiply(a: int, b: int) -> int:\n",
    "    \"\"\"Multiple two integers and returns the result integer\"\"\"\n",
    "    return a * b\n",
    "\n",
    "\n",
    "multiply_tool = FunctionTool.from_defaults(fn=multiply)\n",
    "\n",
    "def add(a: int, b: int) -> int:\n",
    "    \"\"\"Add two integers and returns the result integer\"\"\"\n",
    "    return a + b\n",
    "\n",
    "\n",
    "add_tool = FunctionTool.from_defaults(fn=add)"
   ]
  },
  {
   "cell_type": "code",
   "execution_count": 3,
   "metadata": {
    "ExecuteTime": {
     "end_time": "2024-11-24T20:10:41.657861Z",
     "start_time": "2024-11-24T20:10:41.655578Z"
    }
   },
   "outputs": [
    {
     "name": "stdout",
     "output_type": "stream",
     "text": [
      "load_data\n",
      "load_data() -> List[llama_index.core.schema.Document]\n",
      "Load emails from the user's account.\n",
      "search_messages\n",
      "search_messages(query: str, max_results: Optional[int] = None)\n",
      "Searches email messages given a query string and the maximum number\n",
      "        of results requested by the user\n",
      "           Returns: List of relevant message objects up to the maximum number of results.\n",
      "\n",
      "        Args:\n",
      "            query[str]: The user's query\n",
      "            max_results (Optional[int]): The maximum number of search results\n",
      "            to return.\n",
      "        \n",
      "create_draft\n",
      "create_draft(to: Optional[List[str]] = None, subject: Optional[str] = None, message: Optional[str] = None) -> str\n",
      "Create and insert a draft email.\n",
      "           Print the returned draft's message and id.\n",
      "           Returns: Draft object, including draft id and message meta data.\n",
      "\n",
      "        Args:\n",
      "            to (Optional[str]): The email addresses to send the message to\n",
      "            subject (Optional[str]): The subject for the event\n",
      "            message (Optional[str]): The message for the event\n",
      "        \n",
      "update_draft\n",
      "update_draft(to: Optional[List[str]] = None, subject: Optional[str] = None, message: Optional[str] = None, draft_id: str = None) -> str\n",
      "Update a draft email.\n",
      "           Print the returned draft's message and id.\n",
      "           This function is required to be passed a draft_id that is obtained when creating messages\n",
      "           Returns: Draft object, including draft id and message meta data.\n",
      "\n",
      "        Args:\n",
      "            to (Optional[str]): The email addresses to send the message to\n",
      "            subject (Optional[str]): The subject for the event\n",
      "            message (Optional[str]): The message for the event\n",
      "            draft_id (str): the id of the draft to be updated\n",
      "        \n",
      "get_draft\n",
      "get_draft(draft_id: str = None) -> str\n",
      "Get a draft email.\n",
      "           Print the returned draft's message and id.\n",
      "           Returns: Draft object, including draft id and message meta data.\n",
      "\n",
      "        Args:\n",
      "            draft_id (str): the id of the draft to be updated\n",
      "        \n",
      "send_draft\n",
      "send_draft(draft_id: str = None) -> str\n",
      "Sends a draft email.\n",
      "           Print the returned draft's message and id.\n",
      "           Returns: Draft object, including draft id and message meta data.\n",
      "\n",
      "        Args:\n",
      "            draft_id (str): the id of the draft to be updated\n",
      "        \n",
      "load_data\n",
      "load_data(number_of_results: Optional[int] = 100, start_date: Union[str, datetime.date, NoneType] = None) -> List[llama_index.core.schema.Document]\n",
      "Load data from user's calendar.\n",
      "\n",
      "        Args:\n",
      "            number_of_results (Optional[int]): the number of events to return. Defaults to 100.\n",
      "            start_date (Optional[Union[str, datetime.date]]): the start date to return events from in date isoformat. Defaults to today.\n",
      "        \n",
      "create_event\n",
      "create_event(title: Optional[str] = None, description: Optional[str] = None, location: Optional[str] = None, start_datetime: Union[str, datetime.datetime, NoneType] = None, end_datetime: Union[str, datetime.datetime, NoneType] = None, attendees: Optional[List[str]] = None) -> str\n",
      "\n",
      "            Create an event on the users calendar.\n",
      "\n",
      "        Args:\n",
      "            title (Optional[str]): The title for the event\n",
      "            description (Optional[str]): The description for the event\n",
      "            location (Optional[str]): The location for the event\n",
      "            start_datetime Optional[Union[str, datetime.datetime]]: The start datetime for the event\n",
      "            end_datetime Optional[Union[str, datetime.datetime]]: The end datetime for the event\n",
      "            attendees Optional[List[str]]: A list of email address to invite to the event\n",
      "        \n",
      "get_date\n",
      "get_date()\n",
      "\n",
      "        A function to return todays date. Call this before any other functions if you are unaware of the date.\n",
      "        \n",
      "google_search\n",
      "google_search(query: str)\n",
      "\n",
      "        Make a query to the Google search engine to receive a list of results.\n",
      "\n",
      "        Args:\n",
      "            query (str): The query to be passed to Google search.\n",
      "            num (int, optional): The number of search results to return. Defaults to None.\n",
      "\n",
      "        Raises:\n",
      "            ValueError: If the 'num' is not an integer between 1 and 10.\n",
      "        \n"
     ]
    }
   ],
   "source": [
    "for tool in [*gmail_tools, *gcal_tools, *gsearch_tools]:\n",
    "    print(tool.metadata.name)\n",
    "    print(tool.metadata.description)"
   ]
  },
  {
   "cell_type": "code",
   "execution_count": 4,
   "metadata": {
    "ExecuteTime": {
     "end_time": "2024-11-24T20:10:41.714360Z",
     "start_time": "2024-11-24T20:10:41.707228Z"
    }
   },
   "outputs": [
    {
     "name": "stdout",
     "output_type": "stream",
     "text": [
      "Wrapping google_search\n",
      "Wrapping gmail load_data\n",
      "Wrapping google calendar load_data\n"
     ]
    }
   ],
   "source": [
    "# from llama_index.tools.tool_spec.load_and_search.base import LoadAndSearchToolSpec\n",
    "from llama_index.core.tools.tool_spec.load_and_search import ( LoadAndSearchToolSpec,)\n",
    "\n",
    "print(\"Wrapping \" + gsearch_tools[0].metadata.name)\n",
    "gsearch_load_and_search_tools = LoadAndSearchToolSpec.from_defaults( gsearch_tools[0],).to_tool_list()\n",
    "\n",
    "print(\"Wrapping gmail \" + gmail_tools[0].metadata.name)\n",
    "gmail_load_and_search_tools = LoadAndSearchToolSpec.from_defaults( gmail_tools[0],).to_tool_list()\n",
    "\n",
    "print(\"Wrapping google calendar \" + gcal_tools[0].metadata.name)\n",
    "gcal_load_and_search_tools = LoadAndSearchToolSpec.from_defaults( gcal_tools[0],).to_tool_list()"
   ]
  },
  {
   "cell_type": "code",
   "execution_count": 5,
   "metadata": {
    "ExecuteTime": {
     "end_time": "2024-11-24T20:10:41.766723Z",
     "start_time": "2024-11-24T20:10:41.764241Z"
    }
   },
   "outputs": [],
   "source": [
    "all_tools = [\n",
    "    *gsearch_load_and_search_tools,\n",
    "    *gmail_load_and_search_tools,\n",
    "    *gcal_load_and_search_tools,\n",
    "    *gcal_tools[1::],\n",
    "    *gmail_tools[1::],\n",
    "    *gsearch_tools[1::],\n",
    "    multiply_tool,\n",
    "    add_tool,\n",
    "]"
   ]
  },
  {
   "cell_type": "code",
   "execution_count": 6,
   "metadata": {
    "ExecuteTime": {
     "end_time": "2024-11-24T20:10:41.890732Z",
     "start_time": "2024-11-24T20:10:41.824241Z"
    }
   },
   "outputs": [],
   "source": [
    "llm = OpenAI(model=\"gpt-3.5-turbo\")\n",
    "agent = OpenAIAgent.from_tools(tools=all_tools, llm=llm, verbose=True)"
   ]
  },
  {
   "cell_type": "code",
   "execution_count": 7,
   "metadata": {
    "ExecuteTime": {
     "end_time": "2024-11-24T20:10:44.956940Z",
     "start_time": "2024-11-24T20:10:41.895429Z"
    }
   },
   "outputs": [
    {
     "name": "stdout",
     "output_type": "stream",
     "text": [
      "Added user message to memory: search google and the sea is green\n",
      "=== Calling Function ===\n",
      "Calling function: google_search with args: {\"query\":\"the sea is green\"}\n",
      "Got output: Content loaded! You can now search the information using read_google_search\n",
      "========================\n",
      "\n",
      "=== Calling Function ===\n",
      "Calling function: read_google_search with args: {\"query\":\"the sea is green\"}\n",
      "Got output: API key not valid. Please pass a valid API key.\n",
      "========================\n",
      "\n"
     ]
    },
    {
     "data": {
      "text/plain": [
       "AgentChatResponse(response='I encountered an issue while trying to retrieve information from Google search. Could you please try again with a different query or provide more details so I can assist you further?', sources=[ToolOutput(content='Content loaded! You can now search the information using read_google_search', tool_name='google_search', raw_input={'args': (), 'kwargs': {'query': 'the sea is green'}}, raw_output='Content loaded! You can now search the information using read_google_search', is_error=False), ToolOutput(content='API key not valid. Please pass a valid API key.', tool_name='read_google_search', raw_input={'args': (), 'kwargs': {'query': 'the sea is green'}}, raw_output='API key not valid. Please pass a valid API key.', is_error=False)], source_nodes=[], is_dummy_stream=False, metadata=None)"
      ]
     },
     "execution_count": 7,
     "metadata": {},
     "output_type": "execute_result"
    }
   ],
   "source": [
    "agent.chat(\n",
    "  # \"search google and find the email address for a dentist in toronto near bloor and dufferin\"\n",
    "  # \"search google and find the phone number for a dentist in ridgewood near east ridgewood avenue\"\n",
    "    \"search google and the sea is green\"\n",
    ")"
   ]
  },
  {
   "cell_type": "code",
   "execution_count": 8,
   "metadata": {
    "ExecuteTime": {
     "end_time": "2024-11-24T20:10:47.459060Z",
     "start_time": "2024-11-24T20:10:44.964007Z"
    }
   },
   "outputs": [
    {
     "name": "stdout",
     "output_type": "stream",
     "text": [
      "Added user message to memory: What does google return for that search\n",
      "=== Calling Function ===\n",
      "Calling function: google_search with args: {\"query\":\"the sea is green\"}\n",
      "Got output: Content loaded! You can now search the information using read_google_search\n",
      "========================\n",
      "\n",
      "=== Calling Function ===\n",
      "Calling function: read_google_search with args: {\"query\":\"the sea is green\"}\n",
      "Got output: There is no direct correlation between the provided context information and the query about the sea being green.\n",
      "========================\n",
      "\n"
     ]
    },
    {
     "data": {
      "text/plain": [
       "AgentChatResponse(response='Google search did not return any relevant information related to the query \"the sea is green.\" If you have any other queries or need assistance with something else, feel free to let me know!', sources=[ToolOutput(content='Content loaded! You can now search the information using read_google_search', tool_name='google_search', raw_input={'args': (), 'kwargs': {'query': 'the sea is green'}}, raw_output='Content loaded! You can now search the information using read_google_search', is_error=False), ToolOutput(content='There is no direct correlation between the provided context information and the query about the sea being green.', tool_name='read_google_search', raw_input={'args': (), 'kwargs': {'query': 'the sea is green'}}, raw_output='There is no direct correlation between the provided context information and the query about the sea being green.', is_error=False)], source_nodes=[], is_dummy_stream=False, metadata=None)"
      ]
     },
     "execution_count": 8,
     "metadata": {},
     "output_type": "execute_result"
    }
   ],
   "source": [
    "agent.chat(\"What does google return for that search\")"
   ]
  },
  {
   "cell_type": "code",
   "execution_count": 9,
   "metadata": {
    "ExecuteTime": {
     "end_time": "2024-11-24T20:10:51.933167Z",
     "start_time": "2024-11-24T20:10:47.482677Z"
    }
   },
   "outputs": [
    {
     "name": "stdout",
     "output_type": "stream",
     "text": [
      "Added user message to memory: write an email to send to john@johnrizzo.net asking if we can meet tomorrow at 2pm\n",
      "=== Calling Function ===\n",
      "Calling function: create_draft with args: {\"to\":[\"john@johnrizzo.net\"],\"subject\":\"Meeting Request for Tomorrow at 2pm\",\"message\":\"Hi John,\\n\\nI hope this email finds you well. I would like to schedule a meeting with you tomorrow at 2pm. Please let me know if this time works for you.\\n\\nLooking forward to hearing from you.\\n\\nBest regards,\\n[Your Name]\"}\n",
      "Got output: Error: ('deleted_client: The OAuth client was deleted.', {'error': 'deleted_client', 'error_description': 'The OAuth client was deleted.'})\n",
      "========================\n",
      "\n",
      "=== Calling Function ===\n",
      "Calling function: create_draft with args: {\"to\":[\"john@johnrizzo.net\"],\"subject\":\"Meeting Request for Tomorrow at 2pm\",\"message\":\"Hi John,\\n\\nI hope this email finds you well. I would like to schedule a meeting with you tomorrow at 2pm. Please let me know if this time works for you.\\n\\nLooking forward to hearing from you.\\n\\nBest regards,\\n[Your Name]\"}\n",
      "Got output: Error: ('deleted_client: The OAuth client was deleted.', {'error': 'deleted_client', 'error_description': 'The OAuth client was deleted.'})\n",
      "========================\n",
      "\n"
     ]
    },
    {
     "data": {
      "text/plain": [
       "AgentChatResponse(response='It appears there is an issue with creating the email draft due to a deleted OAuth client. Unfortunately, I am unable to proceed with creating the email at the moment. If you have any other requests or need assistance with something else, please let me know.', sources=[ToolOutput(content=\"Error: ('deleted_client: The OAuth client was deleted.', {'error': 'deleted_client', 'error_description': 'The OAuth client was deleted.'})\", tool_name='create_draft', raw_input={'kwargs': {'to': ['john@johnrizzo.net'], 'subject': 'Meeting Request for Tomorrow at 2pm', 'message': 'Hi John,\\n\\nI hope this email finds you well. I would like to schedule a meeting with you tomorrow at 2pm. Please let me know if this time works for you.\\n\\nLooking forward to hearing from you.\\n\\nBest regards,\\n[Your Name]'}}, raw_output=RefreshError('deleted_client: The OAuth client was deleted.', {'error': 'deleted_client', 'error_description': 'The OAuth client was deleted.'}), is_error=False), ToolOutput(content=\"Error: ('deleted_client: The OAuth client was deleted.', {'error': 'deleted_client', 'error_description': 'The OAuth client was deleted.'})\", tool_name='create_draft', raw_input={'kwargs': {'to': ['john@johnrizzo.net'], 'subject': 'Meeting Request for Tomorrow at 2pm', 'message': 'Hi John,\\n\\nI hope this email finds you well. I would like to schedule a meeting with you tomorrow at 2pm. Please let me know if this time works for you.\\n\\nLooking forward to hearing from you.\\n\\nBest regards,\\n[Your Name]'}}, raw_output=RefreshError('deleted_client: The OAuth client was deleted.', {'error': 'deleted_client', 'error_description': 'The OAuth client was deleted.'}), is_error=False)], source_nodes=[], is_dummy_stream=False, metadata=None)"
      ]
     },
     "execution_count": 9,
     "metadata": {},
     "output_type": "execute_result"
    }
   ],
   "source": [
    "agent.chat(\"write an email to send to john@johnrizzo.net asking if we can meet tomorrow at 2pm\")"
   ]
  },
  {
   "cell_type": "code",
   "execution_count": 10,
   "metadata": {
    "ExecuteTime": {
     "end_time": "2024-11-24T20:10:51.942518Z",
     "start_time": "2024-11-24T20:10:51.940830Z"
    }
   },
   "outputs": [],
   "source": [
    "# agent.chat(\"send an email to nonsleepr@gmail.com with the subject let's meet on Friday and the body this is the first email I've Ada has sent on my behalf.\")"
   ]
  },
  {
   "cell_type": "code",
   "execution_count": 11,
   "metadata": {
    "ExecuteTime": {
     "end_time": "2024-11-24T20:10:52.001545Z",
     "start_time": "2024-11-24T20:10:51.998957Z"
    }
   },
   "outputs": [],
   "source": [
    "# agent.chat(\"What do I have on my calendar for the day\")"
   ]
  },
  {
   "cell_type": "code",
   "execution_count": 12,
   "metadata": {
    "ExecuteTime": {
     "end_time": "2024-11-24T20:10:55.108867Z",
     "start_time": "2024-11-24T20:10:52.049609Z"
    }
   },
   "outputs": [
    {
     "name": "stdout",
     "output_type": "stream",
     "text": [
      "Added user message to memory: How many emails have I received today\n",
      "=== Calling Function ===\n",
      "Calling function: get_date with args: {}\n",
      "Got output: 2024-11-24\n",
      "========================\n",
      "\n",
      "=== Calling Function ===\n",
      "Calling function: load_data with args: {}\n",
      "Got output: Error: ('deleted_client: The OAuth client was deleted.', {'error': 'deleted_client', 'error_description': 'The OAuth client was deleted.'})\n",
      "========================\n",
      "\n"
     ]
    },
    {
     "data": {
      "text/plain": [
       "AgentChatResponse(response='It seems there is an issue with accessing the email data due to a deleted OAuth client. Unfortunately, I am unable to retrieve the number of emails you have received today at the moment. If you have any other questions or need assistance with something else, please feel free to let me know.', sources=[ToolOutput(content='2024-11-24', tool_name='get_date', raw_input={'args': (), 'kwargs': {}}, raw_output=datetime.date(2024, 11, 24), is_error=False), ToolOutput(content=\"Error: ('deleted_client: The OAuth client was deleted.', {'error': 'deleted_client', 'error_description': 'The OAuth client was deleted.'})\", tool_name='load_data', raw_input={'kwargs': {}}, raw_output=RefreshError('deleted_client: The OAuth client was deleted.', {'error': 'deleted_client', 'error_description': 'The OAuth client was deleted.'}), is_error=False)], source_nodes=[], is_dummy_stream=False, metadata=None)"
      ]
     },
     "execution_count": 12,
     "metadata": {},
     "output_type": "execute_result"
    }
   ],
   "source": [
    "agent.chat(\"How many emails have I received today\")"
   ]
  },
  {
   "cell_type": "code",
   "execution_count": null,
   "metadata": {
    "ExecuteTime": {
     "end_time": "2024-11-24T20:10:55.123279Z",
     "start_time": "2024-11-24T20:10:55.121732Z"
    }
   },
   "outputs": [],
   "source": []
  }
 ],
 "metadata": {
  "kernelspec": {
   "display_name": "ada",
   "language": "python",
   "name": "python3"
  },
  "language_info": {
   "codemirror_mode": {
    "name": "ipython",
    "version": 3
   },
   "file_extension": ".py",
   "mimetype": "text/x-python",
   "name": "python",
   "nbconvert_exporter": "python",
   "pygments_lexer": "ipython3",
   "version": "3.12.2"
  }
 },
 "nbformat": 4,
 "nbformat_minor": 2
}
